{
 "cells": [
  {
   "cell_type": "code",
   "execution_count": null,
   "metadata": {
    "id": "NNiYb3LiF2Z3"
   },
   "outputs": [],
   "source": []
  },
  {
   "cell_type": "code",
   "execution_count": null,
   "metadata": {
    "id": "uwYwcHA3nsIR"
   },
   "outputs": [],
   "source": []
  },
  {
   "cell_type": "code",
   "execution_count": null,
   "metadata": {
    "id": "Wa6lFGiTmHpg"
   },
   "outputs": [],
   "source": []
  },
  {
   "cell_type": "code",
   "execution_count": null,
   "metadata": {
    "id": "--BKxWZZArzY"
   },
   "outputs": [],
   "source": []
  },
  {
   "cell_type": "code",
   "execution_count": 1,
   "metadata": {
    "id": "rx7xrQaFyWEQ"
   },
   "outputs": [],
   "source": [
    "import warnings\n",
    "warnings.filterwarnings('ignore')\n",
    "import numpy as np\n",
    "import pandas as pd\n",
    "import matplotlib.pyplot as plt\n",
    "\n",
    "from sklearn.model_selection import train_test_split"
   ]
  },
  {
   "cell_type": "code",
   "execution_count": 2,
   "metadata": {
    "id": "Gp7XtfP5yWES"
   },
   "outputs": [],
   "source": [
    "import pandas as pd\n",
    "import matplotlib.pyplot as plt\n",
    "\n",
    "from sklearn.model_selection import train_test_split"
   ]
  },
  {
   "cell_type": "code",
   "execution_count": 3,
   "metadata": {
    "id": "h1JCDLvXyWET"
   },
   "outputs": [],
   "source": [
    "import os\n",
    "os.chdir('./')"
   ]
  },
  {
   "cell_type": "code",
   "execution_count": 4,
   "metadata": {
    "id": "2Lne-dmAyWEU"
   },
   "outputs": [],
   "source": [
    "train=pd.read_csv('https://raw.githubusercontent.com/nhyha/git-study/master/datasets/train.csv')\n",
    "test=pd.read_csv('https://raw.githubusercontent.com/nhyha/git-study/master/datasets/test.csv')\n",
    "submission=pd.read_csv('https://raw.githubusercontent.com/nhyha/git-study/master/datasets/sample_submission.csv')"
   ]
  },
  {
   "cell_type": "code",
   "execution_count": 5,
   "metadata": {
    "colab": {
     "base_uri": "https://localhost:8080/",
     "height": 310
    },
    "id": "B-BsOM5LyWEU",
    "outputId": "3004a3d3-325c-4d99-a0c2-c52c7ddefa10"
   },
   "outputs": [
    {
     "data": {
      "text/html": [
       "<div>\n",
       "<style scoped>\n",
       "    .dataframe tbody tr th:only-of-type {\n",
       "        vertical-align: middle;\n",
       "    }\n",
       "\n",
       "    .dataframe tbody tr th {\n",
       "        vertical-align: top;\n",
       "    }\n",
       "\n",
       "    .dataframe thead th {\n",
       "        text-align: right;\n",
       "    }\n",
       "</style>\n",
       "<table border=\"1\" class=\"dataframe\">\n",
       "  <thead>\n",
       "    <tr style=\"text-align: right;\">\n",
       "      <th></th>\n",
       "      <th>index</th>\n",
       "      <th>gender</th>\n",
       "      <th>is_car</th>\n",
       "      <th>is_reality</th>\n",
       "      <th>income_year</th>\n",
       "      <th>income_type</th>\n",
       "      <th>edu_type</th>\n",
       "      <th>marital status</th>\n",
       "      <th>house_type</th>\n",
       "      <th>is_mobile</th>\n",
       "      <th>is_email</th>\n",
       "      <th>job_type</th>\n",
       "      <th>family_size</th>\n",
       "      <th>credit</th>\n",
       "    </tr>\n",
       "  </thead>\n",
       "  <tbody>\n",
       "    <tr>\n",
       "      <th>0</th>\n",
       "      <td>0</td>\n",
       "      <td>1</td>\n",
       "      <td>0</td>\n",
       "      <td>0</td>\n",
       "      <td>202500.0</td>\n",
       "      <td>Commercial associate</td>\n",
       "      <td>Higher education</td>\n",
       "      <td>Married</td>\n",
       "      <td>Municipal apartment</td>\n",
       "      <td>1</td>\n",
       "      <td>0</td>\n",
       "      <td>NaN</td>\n",
       "      <td>2</td>\n",
       "      <td>1</td>\n",
       "    </tr>\n",
       "    <tr>\n",
       "      <th>1</th>\n",
       "      <td>1</td>\n",
       "      <td>1</td>\n",
       "      <td>0</td>\n",
       "      <td>1</td>\n",
       "      <td>247500.0</td>\n",
       "      <td>Commercial associate</td>\n",
       "      <td>Secondary / secondary special</td>\n",
       "      <td>Civil marriage</td>\n",
       "      <td>House / apartment</td>\n",
       "      <td>1</td>\n",
       "      <td>1</td>\n",
       "      <td>Laborers</td>\n",
       "      <td>3</td>\n",
       "      <td>1</td>\n",
       "    </tr>\n",
       "    <tr>\n",
       "      <th>2</th>\n",
       "      <td>2</td>\n",
       "      <td>0</td>\n",
       "      <td>1</td>\n",
       "      <td>1</td>\n",
       "      <td>450000.0</td>\n",
       "      <td>Working</td>\n",
       "      <td>Higher education</td>\n",
       "      <td>Married</td>\n",
       "      <td>House / apartment</td>\n",
       "      <td>1</td>\n",
       "      <td>0</td>\n",
       "      <td>Managers</td>\n",
       "      <td>2</td>\n",
       "      <td>2</td>\n",
       "    </tr>\n",
       "    <tr>\n",
       "      <th>3</th>\n",
       "      <td>3</td>\n",
       "      <td>1</td>\n",
       "      <td>0</td>\n",
       "      <td>1</td>\n",
       "      <td>202500.0</td>\n",
       "      <td>Commercial associate</td>\n",
       "      <td>Secondary / secondary special</td>\n",
       "      <td>Married</td>\n",
       "      <td>House / apartment</td>\n",
       "      <td>1</td>\n",
       "      <td>0</td>\n",
       "      <td>Sales staff</td>\n",
       "      <td>2</td>\n",
       "      <td>0</td>\n",
       "    </tr>\n",
       "    <tr>\n",
       "      <th>4</th>\n",
       "      <td>4</td>\n",
       "      <td>1</td>\n",
       "      <td>1</td>\n",
       "      <td>1</td>\n",
       "      <td>157500.0</td>\n",
       "      <td>State servant</td>\n",
       "      <td>Higher education</td>\n",
       "      <td>Married</td>\n",
       "      <td>House / apartment</td>\n",
       "      <td>1</td>\n",
       "      <td>0</td>\n",
       "      <td>Managers</td>\n",
       "      <td>2</td>\n",
       "      <td>2</td>\n",
       "    </tr>\n",
       "  </tbody>\n",
       "</table>\n",
       "</div>"
      ],
      "text/plain": [
       "   index  gender  is_car  is_reality  income_year           income_type  \\\n",
       "0      0       1       0           0     202500.0  Commercial associate   \n",
       "1      1       1       0           1     247500.0  Commercial associate   \n",
       "2      2       0       1           1     450000.0               Working   \n",
       "3      3       1       0           1     202500.0  Commercial associate   \n",
       "4      4       1       1           1     157500.0         State servant   \n",
       "\n",
       "                        edu_type  marital status           house_type  \\\n",
       "0               Higher education         Married  Municipal apartment   \n",
       "1  Secondary / secondary special  Civil marriage    House / apartment   \n",
       "2               Higher education         Married    House / apartment   \n",
       "3  Secondary / secondary special         Married    House / apartment   \n",
       "4               Higher education         Married    House / apartment   \n",
       "\n",
       "   is_mobile  is_email     job_type  family_size  credit  \n",
       "0          1         0          NaN            2       1  \n",
       "1          1         1     Laborers            3       1  \n",
       "2          1         0     Managers            2       2  \n",
       "3          1         0  Sales staff            2       0  \n",
       "4          1         0     Managers            2       2  "
      ]
     },
     "execution_count": 5,
     "metadata": {},
     "output_type": "execute_result"
    }
   ],
   "source": [
    "train.head()"
   ]
  },
  {
   "cell_type": "code",
   "execution_count": 6,
   "metadata": {
    "colab": {
     "base_uri": "https://localhost:8080/",
     "height": 275
    },
    "id": "Xzzh_U8syWEV",
    "outputId": "8439f8a7-6d60-419e-bcbb-bca8ea3b3a9e"
   },
   "outputs": [
    {
     "data": {
      "text/html": [
       "<div>\n",
       "<style scoped>\n",
       "    .dataframe tbody tr th:only-of-type {\n",
       "        vertical-align: middle;\n",
       "    }\n",
       "\n",
       "    .dataframe tbody tr th {\n",
       "        vertical-align: top;\n",
       "    }\n",
       "\n",
       "    .dataframe thead th {\n",
       "        text-align: right;\n",
       "    }\n",
       "</style>\n",
       "<table border=\"1\" class=\"dataframe\">\n",
       "  <thead>\n",
       "    <tr style=\"text-align: right;\">\n",
       "      <th></th>\n",
       "      <th>index</th>\n",
       "      <th>gender</th>\n",
       "      <th>is_car</th>\n",
       "      <th>is_reality</th>\n",
       "      <th>income_year</th>\n",
       "      <th>income_type</th>\n",
       "      <th>edu_type</th>\n",
       "      <th>marital status</th>\n",
       "      <th>house_type</th>\n",
       "      <th>is_mobile</th>\n",
       "      <th>is_email</th>\n",
       "      <th>job_type</th>\n",
       "      <th>family_size</th>\n",
       "    </tr>\n",
       "  </thead>\n",
       "  <tbody>\n",
       "    <tr>\n",
       "      <th>0</th>\n",
       "      <td>22001</td>\n",
       "      <td>1</td>\n",
       "      <td>0</td>\n",
       "      <td>1</td>\n",
       "      <td>112500.0</td>\n",
       "      <td>Working</td>\n",
       "      <td>Incomplete higher</td>\n",
       "      <td>Civil marriage</td>\n",
       "      <td>House / apartment</td>\n",
       "      <td>1</td>\n",
       "      <td>0</td>\n",
       "      <td>NaN</td>\n",
       "      <td>2</td>\n",
       "    </tr>\n",
       "    <tr>\n",
       "      <th>1</th>\n",
       "      <td>22002</td>\n",
       "      <td>1</td>\n",
       "      <td>0</td>\n",
       "      <td>0</td>\n",
       "      <td>135000.0</td>\n",
       "      <td>Working</td>\n",
       "      <td>Secondary / secondary special</td>\n",
       "      <td>Married</td>\n",
       "      <td>House / apartment</td>\n",
       "      <td>1</td>\n",
       "      <td>0</td>\n",
       "      <td>NaN</td>\n",
       "      <td>2</td>\n",
       "    </tr>\n",
       "    <tr>\n",
       "      <th>2</th>\n",
       "      <td>22003</td>\n",
       "      <td>0</td>\n",
       "      <td>1</td>\n",
       "      <td>1</td>\n",
       "      <td>225000.0</td>\n",
       "      <td>Pensioner</td>\n",
       "      <td>Higher education</td>\n",
       "      <td>Separated</td>\n",
       "      <td>House / apartment</td>\n",
       "      <td>1</td>\n",
       "      <td>0</td>\n",
       "      <td>NaN</td>\n",
       "      <td>1</td>\n",
       "    </tr>\n",
       "    <tr>\n",
       "      <th>3</th>\n",
       "      <td>22004</td>\n",
       "      <td>0</td>\n",
       "      <td>1</td>\n",
       "      <td>1</td>\n",
       "      <td>180000.0</td>\n",
       "      <td>Commercial associate</td>\n",
       "      <td>Secondary / secondary special</td>\n",
       "      <td>Civil marriage</td>\n",
       "      <td>Rented apartment</td>\n",
       "      <td>1</td>\n",
       "      <td>1</td>\n",
       "      <td>Drivers</td>\n",
       "      <td>2</td>\n",
       "    </tr>\n",
       "    <tr>\n",
       "      <th>4</th>\n",
       "      <td>22005</td>\n",
       "      <td>1</td>\n",
       "      <td>0</td>\n",
       "      <td>0</td>\n",
       "      <td>202500.0</td>\n",
       "      <td>Working</td>\n",
       "      <td>Higher education</td>\n",
       "      <td>Married</td>\n",
       "      <td>Municipal apartment</td>\n",
       "      <td>1</td>\n",
       "      <td>0</td>\n",
       "      <td>NaN</td>\n",
       "      <td>3</td>\n",
       "    </tr>\n",
       "  </tbody>\n",
       "</table>\n",
       "</div>"
      ],
      "text/plain": [
       "   index  gender  is_car  is_reality  income_year           income_type  \\\n",
       "0  22001       1       0           1     112500.0               Working   \n",
       "1  22002       1       0           0     135000.0               Working   \n",
       "2  22003       0       1           1     225000.0             Pensioner   \n",
       "3  22004       0       1           1     180000.0  Commercial associate   \n",
       "4  22005       1       0           0     202500.0               Working   \n",
       "\n",
       "                        edu_type  marital status           house_type  \\\n",
       "0              Incomplete higher  Civil marriage    House / apartment   \n",
       "1  Secondary / secondary special         Married    House / apartment   \n",
       "2               Higher education       Separated    House / apartment   \n",
       "3  Secondary / secondary special  Civil marriage     Rented apartment   \n",
       "4               Higher education         Married  Municipal apartment   \n",
       "\n",
       "   is_mobile  is_email job_type  family_size  \n",
       "0          1         0      NaN            2  \n",
       "1          1         0      NaN            2  \n",
       "2          1         0      NaN            1  \n",
       "3          1         1  Drivers            2  \n",
       "4          1         0      NaN            3  "
      ]
     },
     "execution_count": 6,
     "metadata": {},
     "output_type": "execute_result"
    }
   ],
   "source": [
    "test.head()"
   ]
  },
  {
   "cell_type": "code",
   "execution_count": 7,
   "metadata": {
    "colab": {
     "base_uri": "https://localhost:8080/"
    },
    "id": "RwnQjKIsyWEW",
    "outputId": "f7a22b60-6f7c-46c5-d5c9-62307fc3aa6b"
   },
   "outputs": [
    {
     "data": {
      "text/plain": [
       "(22001, 14)"
      ]
     },
     "execution_count": 7,
     "metadata": {},
     "output_type": "execute_result"
    }
   ],
   "source": [
    "train.shape"
   ]
  },
  {
   "cell_type": "code",
   "execution_count": 8,
   "metadata": {
    "colab": {
     "base_uri": "https://localhost:8080/"
    },
    "id": "oqFi3HdoyWEW",
    "outputId": "f5d2bb1d-a32e-40bf-b066-28c26c87c494"
   },
   "outputs": [
    {
     "data": {
      "text/plain": [
       "(4456, 13)"
      ]
     },
     "execution_count": 8,
     "metadata": {},
     "output_type": "execute_result"
    }
   ],
   "source": [
    "test.shape"
   ]
  },
  {
   "cell_type": "code",
   "execution_count": 9,
   "metadata": {
    "colab": {
     "base_uri": "https://localhost:8080/"
    },
    "id": "04or8rgnyWEX",
    "outputId": "aa1d3c10-7e8c-4f1a-f6e9-ee18b35df4c6"
   },
   "outputs": [
    {
     "name": "stdout",
     "output_type": "stream",
     "text": [
      "<class 'pandas.core.frame.DataFrame'>\n",
      "RangeIndex: 22001 entries, 0 to 22000\n",
      "Data columns (total 14 columns):\n",
      " #   Column          Non-Null Count  Dtype  \n",
      "---  ------          --------------  -----  \n",
      " 0   index           22001 non-null  int64  \n",
      " 1   gender          22001 non-null  int64  \n",
      " 2   is_car          22001 non-null  int64  \n",
      " 3   is_reality      22001 non-null  int64  \n",
      " 4   income_year     22001 non-null  float64\n",
      " 5   income_type     22001 non-null  object \n",
      " 6   edu_type        22001 non-null  object \n",
      " 7   marital status  22001 non-null  object \n",
      " 8   house_type      22001 non-null  object \n",
      " 9   is_mobile       22001 non-null  int64  \n",
      " 10  is_email        22001 non-null  int64  \n",
      " 11  job_type        15223 non-null  object \n",
      " 12  family_size     22001 non-null  int64  \n",
      " 13  credit          22001 non-null  int64  \n",
      "dtypes: float64(1), int64(8), object(5)\n",
      "memory usage: 2.4+ MB\n"
     ]
    }
   ],
   "source": [
    "train.info()"
   ]
  },
  {
   "cell_type": "markdown",
   "metadata": {
    "id": "FRJ5pW1TyWEX"
   },
   "source": [
    "#  **1. 데이터 전처리**"
   ]
  },
  {
   "cell_type": "markdown",
   "metadata": {
    "id": "FSH3GJzlyWEb"
   },
   "source": [
    "### 1) 결측치 제거"
   ]
  },
  {
   "cell_type": "code",
   "execution_count": 10,
   "metadata": {
    "colab": {
     "base_uri": "https://localhost:8080/"
    },
    "id": "CnS2SUeJyWEb",
    "outputId": "228878e5-3276-4f7a-bf24-ff1ee4d1e0d3"
   },
   "outputs": [
    {
     "data": {
      "text/plain": [
       "index                0\n",
       "gender               0\n",
       "is_car               0\n",
       "is_reality           0\n",
       "income_year          0\n",
       "income_type          0\n",
       "edu_type             0\n",
       "marital status       0\n",
       "house_type           0\n",
       "is_mobile            0\n",
       "is_email             0\n",
       "job_type          6778\n",
       "family_size          0\n",
       "credit               0\n",
       "dtype: int64"
      ]
     },
     "execution_count": 10,
     "metadata": {},
     "output_type": "execute_result"
    }
   ],
   "source": [
    "train.isnull().sum()"
   ]
  },
  {
   "cell_type": "code",
   "execution_count": 11,
   "metadata": {
    "id": "GIEciQViyWEb"
   },
   "outputs": [],
   "source": [
    "# train=train.drop('job_type', axis=1)       # 유일하게 결측치가 존재하는 job_type drop\n",
    "# test=test.drop('job_type', axis=1)          # train과 test 데이터셋에서 결측치 제거"
   ]
  },
  {
   "cell_type": "code",
   "execution_count": 12,
   "metadata": {
    "id": "2159_iA-bMoc"
   },
   "outputs": [],
   "source": [
    "# 결측치를 None으로 대체\n",
    "train = train.fillna('None')\n",
    "\n",
    "# 결측치를 None으로 대체\n",
    "test = test.fillna('None')\n"
   ]
  },
  {
   "cell_type": "code",
   "execution_count": 13,
   "metadata": {
    "id": "jxAZXJ25bTtf"
   },
   "outputs": [],
   "source": [
    "train.drop(['index', 'is_mobile'], axis=1, inplace=True)\n",
    "test.drop(['index', 'is_mobile'], axis=1, inplace=True)"
   ]
  },
  {
   "cell_type": "code",
   "execution_count": 14,
   "metadata": {
    "colab": {
     "base_uri": "https://localhost:8080/"
    },
    "id": "cw9udyqZyWEc",
    "outputId": "0c70a769-3fdc-4a97-f7e2-93739f4b3d95"
   },
   "outputs": [
    {
     "data": {
      "text/plain": [
       "gender              2\n",
       "is_car              2\n",
       "is_reality          2\n",
       "income_year       247\n",
       "income_type         5\n",
       "edu_type            5\n",
       "marital status      5\n",
       "house_type          6\n",
       "is_email            2\n",
       "job_type           19\n",
       "family_size         9\n",
       "credit              3\n",
       "dtype: int64"
      ]
     },
     "execution_count": 14,
     "metadata": {},
     "output_type": "execute_result"
    }
   ],
   "source": [
    "train .apply (lambda x : len(x.unique( ) ) )     # train과 test의 요소들의 개수를 파악"
   ]
  },
  {
   "cell_type": "code",
   "execution_count": 15,
   "metadata": {
    "colab": {
     "base_uri": "https://localhost:8080/"
    },
    "id": "zFroH4UYyWEc",
    "outputId": "1e58b846-83c6-4a1a-9c39-d57ba5d55153"
   },
   "outputs": [
    {
     "data": {
      "text/plain": [
       "gender              2\n",
       "is_car              2\n",
       "is_reality          2\n",
       "income_year       159\n",
       "income_type         5\n",
       "edu_type            5\n",
       "marital status      5\n",
       "house_type          6\n",
       "is_email            2\n",
       "job_type           19\n",
       "family_size         9\n",
       "dtype: int64"
      ]
     },
     "execution_count": 15,
     "metadata": {},
     "output_type": "execute_result"
    }
   ],
   "source": [
    "test .apply (lambda x : len(x.unique( ) ) )"
   ]
  },
  {
   "cell_type": "markdown",
   "metadata": {
    "id": "k0lYIiNQyWEd"
   },
   "source": [
    "### 2)  연속형 변수에 대한 전처리 진행"
   ]
  },
  {
   "cell_type": "code",
   "execution_count": 16,
   "metadata": {
    "id": "4CwAfsD-e3CE"
   },
   "outputs": [],
   "source": [
    "train = train[(train['family_size'] <= 7)]\n",
    "train = train.reset_index(drop=True)\n",
    "\n",
    "for df in [train,test]:\n",
    "    #income_mean: 소득/ 가족 수\n",
    "  df['income_mean'] = df['income_year'] / df['family_size']"
   ]
  },
  {
   "cell_type": "code",
   "execution_count": 17,
   "metadata": {
    "colab": {
     "base_uri": "https://localhost:8080/",
     "height": 667
    },
    "id": "k3hbpWWOyWEd",
    "outputId": "77cbde0a-6c4f-4831-ec95-13a76cf6b4fa"
   },
   "outputs": [
    {
     "name": "stdout",
     "output_type": "stream",
     "text": [
      "(2.632, 9.43]     2658\n",
      "(9.43, 16.16]     8545\n",
      "(16.16, 22.89]    6107\n",
      "(22.89, 29.62]    2309\n",
      "(29.62, 36.35]    1414\n",
      "(36.35, 43.08]     383\n",
      "(43.08, 49.81]     298\n",
      "(49.81, 56.54]      96\n",
      "(56.54, 63.27]      48\n",
      "(63.27, 70.0]      140\n",
      "Name: income_year, dtype: int64\n"
     ]
    },
    {
     "data": {
      "text/plain": [
       "<AxesSubplot:ylabel='Frequency'>"
      ]
     },
     "execution_count": 17,
     "metadata": {},
     "output_type": "execute_result"
    },
    {
     "data": {
      "image/png": "[encoded data removed]",
      "text/plain": [
       "<Figure size 432x288 with 1 Axes>"
      ]
     },
     "metadata": {
      "needs_background": "light"
     },
     "output_type": "display_data"
    }
   ],
   "source": [
    "train['income_year'] = (train['income_year']/10000).astype(object)\n",
    "\n",
    "# 70이상의 값이 매우 적게 존재하는 것을 확인, 이상치 처리\n",
    "train . loc [train['income_year'] > 70]                             # 50가 넘는 값을 가진 모든 row를 호출\n",
    "train . loc [train['income_year'] > 70 , 'income_year' ]           # 해당 row에서 50 이상인 요소 컬럼만을 호출\n",
    "train . loc [train['income_year'] > 70 , 'income_year' ]   = 70      # 50 값으로 바꾸었어\n",
    "\n",
    "\n",
    "print(train['income_year'].value_counts(bins=10,sort=False))\n",
    "train['income_year'].plot(kind='hist',bins=50,density=True)"
   ]
  },
  {
   "cell_type": "code",
   "execution_count": 18,
   "metadata": {},
   "outputs": [
    {
     "name": "stdout",
     "output_type": "stream",
     "text": [
      "(6667.559, 96804.0]     13396\n",
      "(96804.0, 186048.0]      6424\n",
      "(186048.0, 275292.0]     1578\n",
      "(275292.0, 364536.0]      401\n",
      "(364536.0, 453780.0]      131\n",
      "(453780.0, 543024.0]       26\n",
      "(543024.0, 632268.0]       15\n",
      "(632268.0, 721512.0]       18\n",
      "(721512.0, 810756.0]        8\n",
      "(810756.0, 900000.0]        1\n",
      "Name: income_mean, dtype: int64\n"
     ]
    },
    {
     "data": {
      "text/plain": [
       "<AxesSubplot:ylabel='Frequency'>"
      ]
     },
     "execution_count": 18,
     "metadata": {},
     "output_type": "execute_result"
    },
    {
     "data": {
      "image/png": "[encoded data removed]",
      "text/plain": [
       "<Figure size 432x288 with 1 Axes>"
      ]
     },
     "metadata": {
      "needs_background": "light"
     },
     "output_type": "display_data"
    }
   ],
   "source": [
    "print(train['income_mean'].value_counts(bins=10,sort=False))\n",
    "train['income_mean'].plot(kind='hist',bins=50,density=True)"
   ]
  },
  {
   "cell_type": "code",
   "execution_count": 19,
   "metadata": {},
   "outputs": [],
   "source": [
    "test['income_year'] = (test['income_year']/10000).astype(object)"
   ]
  },
  {
   "cell_type": "code",
   "execution_count": 20,
   "metadata": {
    "colab": {
     "base_uri": "https://localhost:8080/"
    },
    "id": "6HFTLNTHyWEd",
    "outputId": "5505ca52-05f5-47da-c7e4-c6688a7d188b"
   },
   "outputs": [
    {
     "name": "stdout",
     "output_type": "stream",
     "text": [
      "2.7\n",
      "70\n",
      "236\n"
     ]
    }
   ],
   "source": [
    "print(train [ 'income_year' ] .min( ))\n",
    "print(train ['income_year'] .max())\n",
    "print(len (train ['income_year'] .unique ( )))           # 최소 2.7부터 70까지, 236개의 요소로 이루어짐을 알수있다"
   ]
  },
  {
   "cell_type": "code",
   "execution_count": 21,
   "metadata": {
    "colab": {
     "base_uri": "https://localhost:8080/"
    },
    "id": "1ffrLvjIFSrP",
    "outputId": "bc49a626-c8bd-436b-ca10-703352c43546"
   },
   "outputs": [
    {
     "name": "stdout",
     "output_type": "stream",
     "text": [
      "[2 3 4 1 5 6 7]\n"
     ]
    }
   ],
   "source": [
    "print(train['family_size'].unique())"
   ]
  },
  {
   "cell_type": "code",
   "execution_count": 22,
   "metadata": {
    "id": "iC8rs-dgyWEe"
   },
   "outputs": [],
   "source": [
    "counts, bin_dividers  =  np.histogram (train['income_year'] , bins=7 )         # 구간 나눠준 값을 counts, bin_dividers 에 저장\n",
    "\n",
    "train['income_year'] = pd.factorize(pd.cut(train ['income_year'],bins = bin_dividers, include_lowest=True, labels = [0, 1, 2, 3, 4, 5, 6]) )  [ 0 ]\n",
    "test['income_year'] = pd.factorize(pd.cut(test['income_year'],bins = bin_dividers, include_lowest=True, labels = [0, 1, 2, 3, 4, 5, 6]) )  [ 0 ]\n",
    "\n",
    "# counts, bin_dividers  =  np.histogram (train['income_mean'] , bins=7 )         # 구간 나눠준 값을 counts, bin_dividers 에 저장\n",
    "\n",
    "# train['income_mean'] = pd.factorize(pd.cut(train ['income_mean'],bins = bin_dividers, include_lowest=True, labels = [0, 1, 2, 3, 4, 5, 6]) )  [ 0 ]\n",
    "# test['income_mean'] = pd.factorize(pd.cut(test['income_mean'],bins = bin_dividers, include_lowest=True, labels = [0, 1, 2, 3, 4, 5, 6]) )  [ 0 ]"
   ]
  },
  {
   "cell_type": "code",
   "execution_count": 23,
   "metadata": {},
   "outputs": [],
   "source": [
    "counts, bin_dividers  =  np.histogram (train['income_mean'] , bins=7 )         # 구간 나눠준 값을 counts, bin_dividers 에 저장\n",
    "\n",
    "train['income_mean'] = pd.factorize(pd.cut(train ['income_mean'],bins = bin_dividers, include_lowest=True, labels = [0, 1, 2, 3, 4, 5, 6]) )  [ 0 ]\n",
    "test['income_mean'] = pd.factorize(pd.cut(test['income_mean'],bins = bin_dividers, include_lowest=True, labels = [0, 1, 2, 3, 4, 5, 6]) )  [ 0 ]\n",
    "\n",
    "# counts, bin_dividers  =  np.histogram (train['income_mean'] , bins=7 )         # 구간 나눠준 값을 counts, bin_dividers 에 저장\n",
    "\n",
    "# train['income_mean'] = pd.factorize(pd.cut(train ['income_mean'],bins = bin_dividers, include_lowest=True, labels = [0, 1, 2, 3, 4, 5, 6]) )  [ 0 ]\n",
    "# test['income_mean'] = pd.factorize(pd.cut(test['income_mean'],bins = bin_dividers, include_lowest=True, labels = [0, 1, 2, 3, 4, 5, 6]) )  [ 0 ]"
   ]
  },
  {
   "cell_type": "code",
   "execution_count": 24,
   "metadata": {
    "id": "xH502heUbxPk"
   },
   "outputs": [],
   "source": [
    "for df in [train,test]:\n",
    "  \n",
    "  df['c_h'] = (\n",
    "  df['is_car'].astype(str) + '_' + df['is_reality'].astype(str))\n",
    "\n",
    "  df['ID'] = (\n",
    "  df['gender'].astype(str) + '_' + df['is_car'].astype(str) + '_' +\\\n",
    "  df['is_reality'].astype(str) + '_' + df['income_year'].astype(str) + '_' +\\\n",
    "  df['income_type'].astype(str) + '_' + df['edu_type'].astype(str) + '_' +\\\n",
    "  df['marital status'].astype(str) + '_' + df['house_type'].astype(str) + '_' +\\\n",
    "  df['is_email'].astype(str) + '_'+ df['job_type'].astype(str) + '_' +\\\n",
    "  df['family_size'].astype(str))"
   ]
  },
  {
   "cell_type": "code",
   "execution_count": 25,
   "metadata": {
    "colab": {
     "base_uri": "https://localhost:8080/",
     "height": 718
    },
    "id": "yRMvO4W0yWEe",
    "outputId": "56491eab-6727-4bea-c806-0da21deed20c"
   },
   "outputs": [
    {
     "data": {
      "text/html": [
       "<div>\n",
       "<style scoped>\n",
       "    .dataframe tbody tr th:only-of-type {\n",
       "        vertical-align: middle;\n",
       "    }\n",
       "\n",
       "    .dataframe tbody tr th {\n",
       "        vertical-align: top;\n",
       "    }\n",
       "\n",
       "    .dataframe thead th {\n",
       "        text-align: right;\n",
       "    }\n",
       "</style>\n",
       "<table border=\"1\" class=\"dataframe\">\n",
       "  <thead>\n",
       "    <tr style=\"text-align: right;\">\n",
       "      <th></th>\n",
       "      <th>gender</th>\n",
       "      <th>is_car</th>\n",
       "      <th>is_reality</th>\n",
       "      <th>income_year</th>\n",
       "      <th>income_type</th>\n",
       "      <th>edu_type</th>\n",
       "      <th>marital status</th>\n",
       "      <th>house_type</th>\n",
       "      <th>is_email</th>\n",
       "      <th>job_type</th>\n",
       "      <th>family_size</th>\n",
       "      <th>income_mean</th>\n",
       "      <th>c_h</th>\n",
       "      <th>ID</th>\n",
       "    </tr>\n",
       "  </thead>\n",
       "  <tbody>\n",
       "    <tr>\n",
       "      <th>0</th>\n",
       "      <td>1</td>\n",
       "      <td>0</td>\n",
       "      <td>1</td>\n",
       "      <td>0</td>\n",
       "      <td>Working</td>\n",
       "      <td>Incomplete higher</td>\n",
       "      <td>Civil marriage</td>\n",
       "      <td>House / apartment</td>\n",
       "      <td>0</td>\n",
       "      <td>None</td>\n",
       "      <td>2</td>\n",
       "      <td>0</td>\n",
       "      <td>0_1</td>\n",
       "      <td>1_0_1_0_Working_Incomplete higher_Civil marria...</td>\n",
       "    </tr>\n",
       "    <tr>\n",
       "      <th>1</th>\n",
       "      <td>1</td>\n",
       "      <td>0</td>\n",
       "      <td>0</td>\n",
       "      <td>1</td>\n",
       "      <td>Working</td>\n",
       "      <td>Secondary / secondary special</td>\n",
       "      <td>Married</td>\n",
       "      <td>House / apartment</td>\n",
       "      <td>0</td>\n",
       "      <td>None</td>\n",
       "      <td>2</td>\n",
       "      <td>0</td>\n",
       "      <td>0_0</td>\n",
       "      <td>1_0_0_1_Working_Secondary / secondary special_...</td>\n",
       "    </tr>\n",
       "    <tr>\n",
       "      <th>2</th>\n",
       "      <td>0</td>\n",
       "      <td>1</td>\n",
       "      <td>1</td>\n",
       "      <td>2</td>\n",
       "      <td>Pensioner</td>\n",
       "      <td>Higher education</td>\n",
       "      <td>Separated</td>\n",
       "      <td>House / apartment</td>\n",
       "      <td>0</td>\n",
       "      <td>None</td>\n",
       "      <td>1</td>\n",
       "      <td>1</td>\n",
       "      <td>1_1</td>\n",
       "      <td>0_1_1_2_Pensioner_Higher education_Separated_H...</td>\n",
       "    </tr>\n",
       "    <tr>\n",
       "      <th>3</th>\n",
       "      <td>0</td>\n",
       "      <td>1</td>\n",
       "      <td>1</td>\n",
       "      <td>1</td>\n",
       "      <td>Commercial associate</td>\n",
       "      <td>Secondary / secondary special</td>\n",
       "      <td>Civil marriage</td>\n",
       "      <td>Rented apartment</td>\n",
       "      <td>1</td>\n",
       "      <td>Drivers</td>\n",
       "      <td>2</td>\n",
       "      <td>0</td>\n",
       "      <td>1_1</td>\n",
       "      <td>0_1_1_1_Commercial associate_Secondary / secon...</td>\n",
       "    </tr>\n",
       "    <tr>\n",
       "      <th>4</th>\n",
       "      <td>1</td>\n",
       "      <td>0</td>\n",
       "      <td>0</td>\n",
       "      <td>1</td>\n",
       "      <td>Working</td>\n",
       "      <td>Higher education</td>\n",
       "      <td>Married</td>\n",
       "      <td>Municipal apartment</td>\n",
       "      <td>0</td>\n",
       "      <td>None</td>\n",
       "      <td>3</td>\n",
       "      <td>0</td>\n",
       "      <td>0_0</td>\n",
       "      <td>1_0_0_1_Working_Higher education_Married_Munic...</td>\n",
       "    </tr>\n",
       "    <tr>\n",
       "      <th>...</th>\n",
       "      <td>...</td>\n",
       "      <td>...</td>\n",
       "      <td>...</td>\n",
       "      <td>...</td>\n",
       "      <td>...</td>\n",
       "      <td>...</td>\n",
       "      <td>...</td>\n",
       "      <td>...</td>\n",
       "      <td>...</td>\n",
       "      <td>...</td>\n",
       "      <td>...</td>\n",
       "      <td>...</td>\n",
       "      <td>...</td>\n",
       "      <td>...</td>\n",
       "    </tr>\n",
       "    <tr>\n",
       "      <th>4451</th>\n",
       "      <td>1</td>\n",
       "      <td>0</td>\n",
       "      <td>0</td>\n",
       "      <td>2</td>\n",
       "      <td>State servant</td>\n",
       "      <td>Secondary / secondary special</td>\n",
       "      <td>Married</td>\n",
       "      <td>House / apartment</td>\n",
       "      <td>0</td>\n",
       "      <td>Core staff</td>\n",
       "      <td>4</td>\n",
       "      <td>0</td>\n",
       "      <td>0_0</td>\n",
       "      <td>1_0_0_2_State servant_Secondary / secondary sp...</td>\n",
       "    </tr>\n",
       "    <tr>\n",
       "      <th>4452</th>\n",
       "      <td>1</td>\n",
       "      <td>0</td>\n",
       "      <td>1</td>\n",
       "      <td>1</td>\n",
       "      <td>Working</td>\n",
       "      <td>Higher education</td>\n",
       "      <td>Separated</td>\n",
       "      <td>House / apartment</td>\n",
       "      <td>0</td>\n",
       "      <td>None</td>\n",
       "      <td>2</td>\n",
       "      <td>0</td>\n",
       "      <td>0_1</td>\n",
       "      <td>1_0_1_1_Working_Higher education_Separated_Hou...</td>\n",
       "    </tr>\n",
       "    <tr>\n",
       "      <th>4453</th>\n",
       "      <td>1</td>\n",
       "      <td>1</td>\n",
       "      <td>0</td>\n",
       "      <td>2</td>\n",
       "      <td>Working</td>\n",
       "      <td>Secondary / secondary special</td>\n",
       "      <td>Civil marriage</td>\n",
       "      <td>With parents</td>\n",
       "      <td>0</td>\n",
       "      <td>Core staff</td>\n",
       "      <td>2</td>\n",
       "      <td>1</td>\n",
       "      <td>1_0</td>\n",
       "      <td>1_1_0_2_Working_Secondary / secondary special_...</td>\n",
       "    </tr>\n",
       "    <tr>\n",
       "      <th>4454</th>\n",
       "      <td>0</td>\n",
       "      <td>0</td>\n",
       "      <td>1</td>\n",
       "      <td>1</td>\n",
       "      <td>Working</td>\n",
       "      <td>Incomplete higher</td>\n",
       "      <td>Single / not married</td>\n",
       "      <td>House / apartment</td>\n",
       "      <td>0</td>\n",
       "      <td>Laborers</td>\n",
       "      <td>1</td>\n",
       "      <td>1</td>\n",
       "      <td>0_1</td>\n",
       "      <td>0_0_1_1_Working_Incomplete higher_Single / not...</td>\n",
       "    </tr>\n",
       "    <tr>\n",
       "      <th>4455</th>\n",
       "      <td>1</td>\n",
       "      <td>0</td>\n",
       "      <td>0</td>\n",
       "      <td>0</td>\n",
       "      <td>Working</td>\n",
       "      <td>Secondary / secondary special</td>\n",
       "      <td>Civil marriage</td>\n",
       "      <td>House / apartment</td>\n",
       "      <td>0</td>\n",
       "      <td>Security staff</td>\n",
       "      <td>2</td>\n",
       "      <td>0</td>\n",
       "      <td>0_0</td>\n",
       "      <td>1_0_0_0_Working_Secondary / secondary special_...</td>\n",
       "    </tr>\n",
       "  </tbody>\n",
       "</table>\n",
       "<p>4456 rows × 14 columns</p>\n",
       "</div>"
      ],
      "text/plain": [
       "      gender  is_car  is_reality  income_year           income_type  \\\n",
       "0          1       0           1            0               Working   \n",
       "1          1       0           0            1               Working   \n",
       "2          0       1           1            2             Pensioner   \n",
       "3          0       1           1            1  Commercial associate   \n",
       "4          1       0           0            1               Working   \n",
       "...      ...     ...         ...          ...                   ...   \n",
       "4451       1       0           0            2         State servant   \n",
       "4452       1       0           1            1               Working   \n",
       "4453       1       1           0            2               Working   \n",
       "4454       0       0           1            1               Working   \n",
       "4455       1       0           0            0               Working   \n",
       "\n",
       "                           edu_type        marital status  \\\n",
       "0                 Incomplete higher        Civil marriage   \n",
       "1     Secondary / secondary special               Married   \n",
       "2                  Higher education             Separated   \n",
       "3     Secondary / secondary special        Civil marriage   \n",
       "4                  Higher education               Married   \n",
       "...                             ...                   ...   \n",
       "4451  Secondary / secondary special               Married   \n",
       "4452               Higher education             Separated   \n",
       "4453  Secondary / secondary special        Civil marriage   \n",
       "4454              Incomplete higher  Single / not married   \n",
       "4455  Secondary / secondary special        Civil marriage   \n",
       "\n",
       "               house_type  is_email        job_type  family_size  income_mean  \\\n",
       "0       House / apartment         0            None            2            0   \n",
       "1       House / apartment         0            None            2            0   \n",
       "2       House / apartment         0            None            1            1   \n",
       "3        Rented apartment         1         Drivers            2            0   \n",
       "4     Municipal apartment         0            None            3            0   \n",
       "...                   ...       ...             ...          ...          ...   \n",
       "4451    House / apartment         0      Core staff            4            0   \n",
       "4452    House / apartment         0            None            2            0   \n",
       "4453         With parents         0      Core staff            2            1   \n",
       "4454    House / apartment         0        Laborers            1            1   \n",
       "4455    House / apartment         0  Security staff            2            0   \n",
       "\n",
       "      c_h                                                 ID  \n",
       "0     0_1  1_0_1_0_Working_Incomplete higher_Civil marria...  \n",
       "1     0_0  1_0_0_1_Working_Secondary / secondary special_...  \n",
       "2     1_1  0_1_1_2_Pensioner_Higher education_Separated_H...  \n",
       "3     1_1  0_1_1_1_Commercial associate_Secondary / secon...  \n",
       "4     0_0  1_0_0_1_Working_Higher education_Married_Munic...  \n",
       "...   ...                                                ...  \n",
       "4451  0_0  1_0_0_2_State servant_Secondary / secondary sp...  \n",
       "4452  0_1  1_0_1_1_Working_Higher education_Separated_Hou...  \n",
       "4453  1_0  1_1_0_2_Working_Secondary / secondary special_...  \n",
       "4454  0_1  0_0_1_1_Working_Incomplete higher_Single / not...  \n",
       "4455  0_0  1_0_0_0_Working_Secondary / secondary special_...  \n",
       "\n",
       "[4456 rows x 14 columns]"
      ]
     },
     "execution_count": 25,
     "metadata": {},
     "output_type": "execute_result"
    }
   ],
   "source": [
    "test               # test도 income_year가 인수형 변수로 구분됨을 확인가능"
   ]
  },
  {
   "cell_type": "code",
   "execution_count": 26,
   "metadata": {},
   "outputs": [
    {
     "name": "stdout",
     "output_type": "stream",
     "text": [
      "[0 1 2 3 4 5 6]\n"
     ]
    }
   ],
   "source": [
    "unique_income_mean = train['income_mean'].unique()\n",
    "print(unique_income_mean)\n"
   ]
  },
  {
   "cell_type": "markdown",
   "metadata": {
    "id": "Cj9vtQDOyWEe"
   },
   "source": [
    "### 3)  범주형 데이터에 대한 인코딩 진행"
   ]
  },
  {
   "cell_type": "code",
   "execution_count": 27,
   "metadata": {
    "id": "_ifQZxqhyWEf"
   },
   "outputs": [],
   "source": [
    "from sklearn import preprocessing\n",
    "# label_encoder=preprocessing.LabelEncoder()\n",
    "# train['income_type']=label_encoder.fit_transform(train['income_type'])\n",
    "# test['income_type']=label_encoder.transform(test['income_type'])\n",
    "\n",
    "# train['job_type']=label_encoder.fit_transform(train['job_type'])\n",
    "# test['job_type']=label_encoder.transform(test['job_type'])\n",
    "\n",
    "# train['edu_type']=label_encoder.fit_transform(train['edu_type'])\n",
    "# test['edu_type']=label_encoder.transform(test['edu_type'])\n",
    "\n",
    "# train['marital status']=label_encoder.fit_transform(train['marital status'])\n",
    "# test['marital status']=label_encoder.transform(test['marital status'])\n",
    "\n",
    "# train['house_type']=label_encoder.fit_transform(train['house_type'])\n",
    "# test['house_type']=label_encoder.transform(test['house_type'])\n",
    "\n",
    "# train['ID']=label_encoder.fit_transform(train['ID'])\n",
    "# test['ID']=label_encoder.transform(test['ID'])\n",
    "\n",
    "# 훈련 데이터와 테스트 데이터 합치기\n",
    "combined_data = pd.concat([train, test])\n",
    "\n",
    "# LabelEncoder 초기화\n",
    "label_encoder = preprocessing.LabelEncoder()\n",
    "\n",
    "# 각 열에 대해 레이블 인코딩 수행\n",
    "for column in ['income_type',  'edu_type', 'marital status', 'house_type', 'job_type','c_h', 'ID']:\n",
    "    combined_data[column] = label_encoder.fit_transform(combined_data[column])\n",
    "\n",
    "# 다시 훈련 데이터와 테스트 데이터로 분리\n",
    "train = combined_data[:len(train)]\n",
    "test = combined_data[len(train):]\n",
    "\n",
    "test=test.drop('credit', axis=1)"
   ]
  },
  {
   "cell_type": "code",
   "execution_count": 28,
   "metadata": {
    "colab": {
     "base_uri": "https://localhost:8080/"
    },
    "id": "goYaqtMDe5NM",
    "outputId": "1aab592f-e613-4d99-b1d1-fe1c47952696"
   },
   "outputs": [
    {
     "name": "stdout",
     "output_type": "stream",
     "text": [
      "[0 4 2 1 3]\n",
      "[1 4 2 3 0]\n",
      "[1 0 2 3 4]\n",
      "[2 1 5 0 4 3]\n",
      "[2345 3972 2066 ... 1072  213 1879]\n"
     ]
    }
   ],
   "source": [
    "print(train['income_type'].unique())\n",
    "print(train['edu_type'].unique())\n",
    "print(train['marital status'].unique())\n",
    "print(train['house_type'].unique())\n",
    "print(train['ID'].unique())"
   ]
  },
  {
   "cell_type": "code",
   "execution_count": 29,
   "metadata": {},
   "outputs": [
    {
     "name": "stdout",
     "output_type": "stream",
     "text": [
      "ID 특성의 고유한 값의 개수: 4554\n"
     ]
    }
   ],
   "source": [
    "num_unique_ids = train['ID'].nunique()\n",
    "print(\"ID 특성의 고유한 값의 개수:\", num_unique_ids)\n"
   ]
  },
  {
   "cell_type": "code",
   "execution_count": 30,
   "metadata": {},
   "outputs": [
    {
     "name": "stdout",
     "output_type": "stream",
     "text": [
      "중복된 ID 특성의 개수: 17444\n"
     ]
    }
   ],
   "source": [
    "# 'ID' 특성의 중복된 개수 확인\n",
    "duplicate_ids_count = train['ID'].duplicated().sum()\n",
    "print(\"중복된 ID 특성의 개수:\", duplicate_ids_count)"
   ]
  },
  {
   "cell_type": "code",
   "execution_count": 31,
   "metadata": {},
   "outputs": [
    {
     "name": "stdout",
     "output_type": "stream",
     "text": [
      "ID와 credit이 동일한 항목의 개수: 4497\n"
     ]
    }
   ],
   "source": [
    "# 'ID'와 'credit' 열을 기준으로 그룹화하여 그룹별 빈도를 계산\n",
    "id_credit_count = train.groupby(['ID', 'credit']).size().reset_index(name='count')\n",
    "\n",
    "# 'ID'와 'credit' 모두 동일한 항목의 개수 출력\n",
    "same_id_credit_count = id_credit_count[id_credit_count.duplicated(subset=['ID'], keep=False)]\n",
    "\n",
    "print(\"ID와 credit이 동일한 항목의 개수:\", len(same_id_credit_count))\n"
   ]
  },
  {
   "cell_type": "code",
   "execution_count": 35,
   "metadata": {},
   "outputs": [
    {
     "name": "stdout",
     "output_type": "stream",
     "text": [
      "       gender  is_car  is_reality  income_year  income_type  edu_type  \\\n",
      "0           1       0           0            0            0         1   \n",
      "1           1       0           1            1            0         4   \n",
      "2           0       1           1            2            4         1   \n",
      "3           1       0           1            0            0         4   \n",
      "4           1       1           1            0            2         1   \n",
      "...       ...     ...         ...          ...          ...       ...   \n",
      "21975       1       1           1            4            4         4   \n",
      "21979       0       1           1            1            4         1   \n",
      "21986       1       0           0            3            4         4   \n",
      "21988       1       0           0            3            4         4   \n",
      "21995       1       0           1            3            4         3   \n",
      "\n",
      "       marital status  house_type  is_email  job_type  family_size  credit  \\\n",
      "0                   1           2         0        12            2       1   \n",
      "1                   0           1         1         8            3       1   \n",
      "2                   1           1         0        10            2       2   \n",
      "3                   1           1         0        15            2       0   \n",
      "4                   1           1         0        10            2       2   \n",
      "...               ...         ...       ...       ...          ...     ...   \n",
      "21975               4           1         0         0            1       1   \n",
      "21979               1           1         0        17            2       2   \n",
      "21986               4           1         1        15            2       1   \n",
      "21988               1           1         0         6            3       0   \n",
      "21995               1           1         0        11            2       1   \n",
      "\n",
      "       income_mean  c_h    ID  \n",
      "0                0    0  2345  \n",
      "1                0    1  3972  \n",
      "2                1    3  2066  \n",
      "3                0    1  3443  \n",
      "4                0    3  5472  \n",
      "...            ...  ...   ...  \n",
      "21975            2    3  6138  \n",
      "21979            0    3  1879  \n",
      "21986            0    0  3297  \n",
      "21988            0    0  3225  \n",
      "21995            0    1  4697  \n",
      "\n",
      "[7087 rows x 15 columns]\n"
     ]
    }
   ],
   "source": [
    "# 'ID'와 'credit' 열을 기준으로 중복 제거하여 하나만 남기고 제거\n",
    "train = train.drop_duplicates(subset=['ID', 'credit'], keep='first')\n",
    "\n",
    "train['credit'] = train['credit'].astype(int)\n",
    "\n",
    "# 중복 제거 후의 데이터프레임 출력\n",
    "print(train)\n"
   ]
  },
  {
   "cell_type": "code",
   "execution_count": 34,
   "metadata": {},
   "outputs": [
    {
     "name": "stdout",
     "output_type": "stream",
     "text": [
      "       gender  is_car  is_reality  income_year  income_type  edu_type  \\\n",
      "0           1       0           0            0            0         1   \n",
      "8           0       1           1            0            0         1   \n",
      "9           1       0           1            3            4         4   \n",
      "10          1       0           1            0            4         4   \n",
      "13          1       0           0            0            4         1   \n",
      "...       ...     ...         ...          ...          ...       ...   \n",
      "21973       0       0           1            3            1         4   \n",
      "21974       1       0           0            0            1         4   \n",
      "21980       1       0           0            3            1         4   \n",
      "21983       1       0           0            3            1         4   \n",
      "21986       1       0           0            3            4         4   \n",
      "\n",
      "       marital status  house_type  is_email  job_type  family_size  credit  \\\n",
      "0                   1           2         0        12            2       1   \n",
      "8                   1           1         1        12            3       2   \n",
      "9                   1           1         0        11            2       2   \n",
      "10                  2           1         1         8            1       2   \n",
      "13                  1           1         0        15            2       2   \n",
      "...               ...         ...       ...       ...          ...     ...   \n",
      "21973               1           1         0        12            2       2   \n",
      "21974               1           1         0        12            2       2   \n",
      "21980               1           1         0        12            2       1   \n",
      "21983               1           1         0        12            2       2   \n",
      "21986               4           1         1        15            2       1   \n",
      "\n",
      "       income_mean  c_h    ID  \n",
      "0                0    0  2345  \n",
      "8                0    3  1531  \n",
      "9                0    1  4740  \n",
      "10               1    1  3837  \n",
      "13               0    0  2538  \n",
      "...            ...  ...   ...  \n",
      "21973            0    1   870  \n",
      "21974            0    0  2449  \n",
      "21980            0    0  3113  \n",
      "21983            0    0  3113  \n",
      "21986            0    0  3297  \n",
      "\n",
      "[5278 rows x 15 columns]\n"
     ]
    }
   ],
   "source": [
    "# import pandas as pd\n",
    "\n",
    "# # 'ID'별 credit 값의 평균 계산\n",
    "# id_credit_mean = train.groupby('ID')['credit'].mean().reset_index()\n",
    "\n",
    "# # 'credit' 평균을 기준으로 특정 범위(예: ±0.1) 내에 있는 'ID' 선택\n",
    "# threshold = 0.1  # 평균에서의 허용 오차 범위\n",
    "# filtered_ids = id_credit_mean[\n",
    "#     (id_credit_mean['credit'] >= id_credit_mean['credit'].mean() - threshold) &\n",
    "#     (id_credit_mean['credit'] <= id_credit_mean['credit'].mean() + threshold)\n",
    "# ]['ID']\n",
    "\n",
    "# # 선택된 'ID'에 해당하는 데이터프레임 만들기\n",
    "# train = train[train['ID'].isin(filtered_ids)]\n",
    "\n",
    "# train['credit'] = train['credit'].astype(int)\n",
    "\n",
    "# # 선택된 데이터프레임 출력\n",
    "# print(train)\n"
   ]
  },
  {
   "cell_type": "code",
   "execution_count": 35,
   "metadata": {},
   "outputs": [
    {
     "name": "stdout",
     "output_type": "stream",
     "text": [
      "선택된 데이터프레임의 'ID' 개수: 501\n"
     ]
    }
   ],
   "source": [
    "# print(\"선택된 데이터프레임의 'ID' 개수:\", train['ID'].nunique())"
   ]
  },
  {
   "cell_type": "code",
   "execution_count": 40,
   "metadata": {},
   "outputs": [
    {
     "name": "stdout",
     "output_type": "stream",
     "text": [
      "ID 특성의 고유한 값의 개수: 4554\n"
     ]
    }
   ],
   "source": [
    "num_unique_ids = train['ID'].nunique()\n",
    "print(\"ID 특성의 고유한 값의 개수:\", num_unique_ids)\n"
   ]
  },
  {
   "cell_type": "code",
   "execution_count": 41,
   "metadata": {},
   "outputs": [],
   "source": [
    "train['ID'] = (train['ID']/4554).astype(object)"
   ]
  },
  {
   "cell_type": "code",
   "execution_count": 37,
   "metadata": {},
   "outputs": [
    {
     "data": {
      "text/plain": [
       "(7087, 15)"
      ]
     },
     "execution_count": 37,
     "metadata": {},
     "output_type": "execute_result"
    }
   ],
   "source": [
    "train.shape"
   ]
  },
  {
   "cell_type": "code",
   "execution_count": 42,
   "metadata": {},
   "outputs": [
    {
     "data": {
      "text/html": [
       "<div>\n",
       "<style scoped>\n",
       "    .dataframe tbody tr th:only-of-type {\n",
       "        vertical-align: middle;\n",
       "    }\n",
       "\n",
       "    .dataframe tbody tr th {\n",
       "        vertical-align: top;\n",
       "    }\n",
       "\n",
       "    .dataframe thead th {\n",
       "        text-align: right;\n",
       "    }\n",
       "</style>\n",
       "<table border=\"1\" class=\"dataframe\">\n",
       "  <thead>\n",
       "    <tr style=\"text-align: right;\">\n",
       "      <th></th>\n",
       "      <th>gender</th>\n",
       "      <th>is_car</th>\n",
       "      <th>is_reality</th>\n",
       "      <th>income_year</th>\n",
       "      <th>income_type</th>\n",
       "      <th>edu_type</th>\n",
       "      <th>marital status</th>\n",
       "      <th>house_type</th>\n",
       "      <th>is_email</th>\n",
       "      <th>job_type</th>\n",
       "      <th>family_size</th>\n",
       "      <th>credit</th>\n",
       "      <th>income_mean</th>\n",
       "      <th>c_h</th>\n",
       "      <th>ID</th>\n",
       "    </tr>\n",
       "  </thead>\n",
       "  <tbody>\n",
       "    <tr>\n",
       "      <th>0</th>\n",
       "      <td>1</td>\n",
       "      <td>0</td>\n",
       "      <td>0</td>\n",
       "      <td>0</td>\n",
       "      <td>0</td>\n",
       "      <td>1</td>\n",
       "      <td>1</td>\n",
       "      <td>2</td>\n",
       "      <td>0</td>\n",
       "      <td>12</td>\n",
       "      <td>2</td>\n",
       "      <td>1</td>\n",
       "      <td>0</td>\n",
       "      <td>0</td>\n",
       "      <td>0.514932</td>\n",
       "    </tr>\n",
       "    <tr>\n",
       "      <th>1</th>\n",
       "      <td>1</td>\n",
       "      <td>0</td>\n",
       "      <td>1</td>\n",
       "      <td>1</td>\n",
       "      <td>0</td>\n",
       "      <td>4</td>\n",
       "      <td>0</td>\n",
       "      <td>1</td>\n",
       "      <td>1</td>\n",
       "      <td>8</td>\n",
       "      <td>3</td>\n",
       "      <td>1</td>\n",
       "      <td>0</td>\n",
       "      <td>1</td>\n",
       "      <td>0.8722</td>\n",
       "    </tr>\n",
       "    <tr>\n",
       "      <th>2</th>\n",
       "      <td>0</td>\n",
       "      <td>1</td>\n",
       "      <td>1</td>\n",
       "      <td>2</td>\n",
       "      <td>4</td>\n",
       "      <td>1</td>\n",
       "      <td>1</td>\n",
       "      <td>1</td>\n",
       "      <td>0</td>\n",
       "      <td>10</td>\n",
       "      <td>2</td>\n",
       "      <td>2</td>\n",
       "      <td>1</td>\n",
       "      <td>3</td>\n",
       "      <td>0.453667</td>\n",
       "    </tr>\n",
       "    <tr>\n",
       "      <th>3</th>\n",
       "      <td>1</td>\n",
       "      <td>0</td>\n",
       "      <td>1</td>\n",
       "      <td>0</td>\n",
       "      <td>0</td>\n",
       "      <td>4</td>\n",
       "      <td>1</td>\n",
       "      <td>1</td>\n",
       "      <td>0</td>\n",
       "      <td>15</td>\n",
       "      <td>2</td>\n",
       "      <td>0</td>\n",
       "      <td>0</td>\n",
       "      <td>1</td>\n",
       "      <td>0.756039</td>\n",
       "    </tr>\n",
       "    <tr>\n",
       "      <th>4</th>\n",
       "      <td>1</td>\n",
       "      <td>1</td>\n",
       "      <td>1</td>\n",
       "      <td>0</td>\n",
       "      <td>2</td>\n",
       "      <td>1</td>\n",
       "      <td>1</td>\n",
       "      <td>1</td>\n",
       "      <td>0</td>\n",
       "      <td>10</td>\n",
       "      <td>2</td>\n",
       "      <td>2</td>\n",
       "      <td>0</td>\n",
       "      <td>3</td>\n",
       "      <td>1.201581</td>\n",
       "    </tr>\n",
       "    <tr>\n",
       "      <th>...</th>\n",
       "      <td>...</td>\n",
       "      <td>...</td>\n",
       "      <td>...</td>\n",
       "      <td>...</td>\n",
       "      <td>...</td>\n",
       "      <td>...</td>\n",
       "      <td>...</td>\n",
       "      <td>...</td>\n",
       "      <td>...</td>\n",
       "      <td>...</td>\n",
       "      <td>...</td>\n",
       "      <td>...</td>\n",
       "      <td>...</td>\n",
       "      <td>...</td>\n",
       "      <td>...</td>\n",
       "    </tr>\n",
       "    <tr>\n",
       "      <th>21975</th>\n",
       "      <td>1</td>\n",
       "      <td>1</td>\n",
       "      <td>1</td>\n",
       "      <td>4</td>\n",
       "      <td>4</td>\n",
       "      <td>4</td>\n",
       "      <td>4</td>\n",
       "      <td>1</td>\n",
       "      <td>0</td>\n",
       "      <td>0</td>\n",
       "      <td>1</td>\n",
       "      <td>1</td>\n",
       "      <td>2</td>\n",
       "      <td>3</td>\n",
       "      <td>1.347826</td>\n",
       "    </tr>\n",
       "    <tr>\n",
       "      <th>21979</th>\n",
       "      <td>0</td>\n",
       "      <td>1</td>\n",
       "      <td>1</td>\n",
       "      <td>1</td>\n",
       "      <td>4</td>\n",
       "      <td>1</td>\n",
       "      <td>1</td>\n",
       "      <td>1</td>\n",
       "      <td>0</td>\n",
       "      <td>17</td>\n",
       "      <td>2</td>\n",
       "      <td>2</td>\n",
       "      <td>0</td>\n",
       "      <td>3</td>\n",
       "      <td>0.412604</td>\n",
       "    </tr>\n",
       "    <tr>\n",
       "      <th>21986</th>\n",
       "      <td>1</td>\n",
       "      <td>0</td>\n",
       "      <td>0</td>\n",
       "      <td>3</td>\n",
       "      <td>4</td>\n",
       "      <td>4</td>\n",
       "      <td>4</td>\n",
       "      <td>1</td>\n",
       "      <td>1</td>\n",
       "      <td>15</td>\n",
       "      <td>2</td>\n",
       "      <td>1</td>\n",
       "      <td>0</td>\n",
       "      <td>0</td>\n",
       "      <td>0.723979</td>\n",
       "    </tr>\n",
       "    <tr>\n",
       "      <th>21988</th>\n",
       "      <td>1</td>\n",
       "      <td>0</td>\n",
       "      <td>0</td>\n",
       "      <td>3</td>\n",
       "      <td>4</td>\n",
       "      <td>4</td>\n",
       "      <td>1</td>\n",
       "      <td>1</td>\n",
       "      <td>0</td>\n",
       "      <td>6</td>\n",
       "      <td>3</td>\n",
       "      <td>0</td>\n",
       "      <td>0</td>\n",
       "      <td>0</td>\n",
       "      <td>0.708169</td>\n",
       "    </tr>\n",
       "    <tr>\n",
       "      <th>21995</th>\n",
       "      <td>1</td>\n",
       "      <td>0</td>\n",
       "      <td>1</td>\n",
       "      <td>3</td>\n",
       "      <td>4</td>\n",
       "      <td>3</td>\n",
       "      <td>1</td>\n",
       "      <td>1</td>\n",
       "      <td>0</td>\n",
       "      <td>11</td>\n",
       "      <td>2</td>\n",
       "      <td>1</td>\n",
       "      <td>0</td>\n",
       "      <td>1</td>\n",
       "      <td>1.031401</td>\n",
       "    </tr>\n",
       "  </tbody>\n",
       "</table>\n",
       "<p>7087 rows × 15 columns</p>\n",
       "</div>"
      ],
      "text/plain": [
       "       gender  is_car  is_reality  income_year  income_type  edu_type  \\\n",
       "0           1       0           0            0            0         1   \n",
       "1           1       0           1            1            0         4   \n",
       "2           0       1           1            2            4         1   \n",
       "3           1       0           1            0            0         4   \n",
       "4           1       1           1            0            2         1   \n",
       "...       ...     ...         ...          ...          ...       ...   \n",
       "21975       1       1           1            4            4         4   \n",
       "21979       0       1           1            1            4         1   \n",
       "21986       1       0           0            3            4         4   \n",
       "21988       1       0           0            3            4         4   \n",
       "21995       1       0           1            3            4         3   \n",
       "\n",
       "       marital status  house_type  is_email  job_type  family_size  credit  \\\n",
       "0                   1           2         0        12            2       1   \n",
       "1                   0           1         1         8            3       1   \n",
       "2                   1           1         0        10            2       2   \n",
       "3                   1           1         0        15            2       0   \n",
       "4                   1           1         0        10            2       2   \n",
       "...               ...         ...       ...       ...          ...     ...   \n",
       "21975               4           1         0         0            1       1   \n",
       "21979               1           1         0        17            2       2   \n",
       "21986               4           1         1        15            2       1   \n",
       "21988               1           1         0         6            3       0   \n",
       "21995               1           1         0        11            2       1   \n",
       "\n",
       "       income_mean  c_h        ID  \n",
       "0                0    0  0.514932  \n",
       "1                0    1    0.8722  \n",
       "2                1    3  0.453667  \n",
       "3                0    1  0.756039  \n",
       "4                0    3  1.201581  \n",
       "...            ...  ...       ...  \n",
       "21975            2    3  1.347826  \n",
       "21979            0    3  0.412604  \n",
       "21986            0    0  0.723979  \n",
       "21988            0    0  0.708169  \n",
       "21995            0    1  1.031401  \n",
       "\n",
       "[7087 rows x 15 columns]"
      ]
     },
     "execution_count": 42,
     "metadata": {},
     "output_type": "execute_result"
    }
   ],
   "source": [
    "train"
   ]
  },
  {
   "cell_type": "code",
   "execution_count": 38,
   "metadata": {
    "colab": {
     "base_uri": "https://localhost:8080/"
    },
    "id": "rqJ0TfhNhHid",
    "outputId": "2713163d-56ff-41d8-b81e-9d770a7f715e"
   },
   "outputs": [
    {
     "data": {
      "text/plain": [
       "gender            0\n",
       "is_car            0\n",
       "is_reality        0\n",
       "income_year       0\n",
       "income_type       0\n",
       "edu_type          0\n",
       "marital status    0\n",
       "house_type        0\n",
       "is_email          0\n",
       "job_type          0\n",
       "family_size       0\n",
       "credit            0\n",
       "income_mean       0\n",
       "c_h               0\n",
       "ID                0\n",
       "dtype: int64"
      ]
     },
     "execution_count": 38,
     "metadata": {},
     "output_type": "execute_result"
    }
   ],
   "source": [
    "train.isnull().sum()"
   ]
  },
  {
   "cell_type": "code",
   "execution_count": 39,
   "metadata": {
    "colab": {
     "base_uri": "https://localhost:8080/"
    },
    "id": "iQ7vxZ-1qE2o",
    "outputId": "c1cdcf87-e859-4f41-8302-ed85a6bbee20"
   },
   "outputs": [
    {
     "data": {
      "text/plain": [
       "gender            0\n",
       "is_car            0\n",
       "is_reality        0\n",
       "income_year       0\n",
       "income_type       0\n",
       "edu_type          0\n",
       "marital status    0\n",
       "house_type        0\n",
       "is_email          0\n",
       "job_type          0\n",
       "family_size       0\n",
       "income_mean       0\n",
       "c_h               0\n",
       "ID                0\n",
       "dtype: int64"
      ]
     },
     "execution_count": 39,
     "metadata": {},
     "output_type": "execute_result"
    }
   ],
   "source": [
    "test.isnull().sum()"
   ]
  },
  {
   "cell_type": "code",
   "execution_count": 563,
   "metadata": {
    "id": "SYL7tjmGhj8i"
   },
   "outputs": [],
   "source": [
    "# # 범주형 변수들에 대해 원핫인코딩 적용\n",
    "\n",
    "# # # 주어진 데이터\n",
    "# # data = {\n",
    "# #     'income_type': ['Commercial associate', 'Working', 'State servant', 'Pensioner', 'Student'],\n",
    "# #     'job_type': ['None', 'Laborers', 'Managers', 'Sales staff', 'High skill tech staff',\n",
    "# #                  'Core staff', 'Drivers', 'Medicine staff', 'Accountants', 'Realty agents',\n",
    "# #                  'Security staff', 'Cleaning staff', 'Private service staff', 'Cooking staff',\n",
    "# #                  'Secretaries', 'HR staff', 'IT staff', 'Low-skill Laborers', 'Waiters/barmen staff'],\n",
    "# #     'edu_type': ['Higher education', 'Secondary / secondary special', 'Incomplete higher',\n",
    "# #                  'Lower secondary', 'Academic degree'],\n",
    "# #     'marital_status': ['Married', 'Civil marriage', 'Separated', 'Single / not married', 'Widow'],\n",
    "# #     'house_type': ['Municipal apartment', 'House / apartment', 'With parents',\n",
    "# #                    'Co-op apartment', 'Rented apartment', 'Office apartment']\n",
    "# # }\n",
    "\n",
    "# # 각 열의 최대 길이 찾기\n",
    "# max_length = max(train[['income_type', 'job_type', 'edu_type', 'marital status', 'house_type','ID']].applymap(lambda x: len(str(x))).max())\n",
    "# max_length = max(test[['income_type', 'job_type', 'edu_type', 'marital status', 'house_type','ID']].applymap(lambda x: len(str(x))).max())\n",
    "\n",
    "# # 각 열을 최대 길이에 맞춰 채우기\n",
    "# train['income_type'] = train['income_type'].apply(lambda x: str(x).ljust(max_length, ' '))\n",
    "# train['job_type'] = train['job_type'].apply(lambda x: str(x).ljust(max_length, ' '))\n",
    "# train['edu_type'] = train['edu_type'].apply(lambda x: str(x).ljust(max_length, ' '))\n",
    "# train['marital status'] = train['marital status'].apply(lambda x: str(x).ljust(max_length, ' '))\n",
    "# train['house_type'] = train['house_type'].apply(lambda x: str(x).ljust(max_length, ' '))\n",
    "# train['ID'] = train['ID'].apply(lambda x: str(x).ljust(max_length, ' '))\n",
    "\n",
    "# test['income_type'] = test['income_type'].apply(lambda x: str(x).ljust(max_length, ' '))\n",
    "# test['job_type'] = test['job_type'].apply(lambda x: str(x).ljust(max_length, ' '))\n",
    "# test['edu_type'] = test['edu_type'].apply(lambda x: str(x).ljust(max_length, ' '))\n",
    "# test['marital status'] = test['marital status'].apply(lambda x: str(x).ljust(max_length, ' '))\n",
    "# test['house_type'] = test['house_type'].apply(lambda x: str(x).ljust(max_length, ' '))\n",
    "# test['ID'] = test['ID'].apply(lambda x: str(x).ljust(max_length, ' '))\n",
    "\n",
    "# # # 데이터프레임 생성\n",
    "# # df = pd.DataFrame(data)\n",
    "\n",
    "# train = pd.get_dummies(train, columns=['income_type', 'job_type', 'edu_type', 'marital status', 'house_type','ID'])\n",
    "# test = pd.get_dummies(test, columns=['income_type', 'job_type', 'edu_type', 'marital status', 'house_type','ID'])\n",
    "\n",
    "# # 결과 확인\n",
    "# print(train.head())"
   ]
  },
  {
   "cell_type": "code",
   "execution_count": 564,
   "metadata": {
    "id": "CtO-7Qq7e3Wj"
   },
   "outputs": [],
   "source": [
    "# import pandas as pd\n",
    "\n",
    "# # 주어진 데이터\n",
    "# data = {\n",
    "#     'income_type': ['Commercial associate', 'Working', 'State servant', 'Pensioner', 'Student'],\n",
    "#     'job_type': ['None', 'Laborers', 'Managers', 'Sales staff', 'High skill tech staff',\n",
    "#                  'Core staff', 'Drivers', 'Medicine staff', 'Accountants', 'Realty agents',\n",
    "#                  'Security staff', 'Cleaning staff', 'Private service staff', 'Cooking staff',\n",
    "#                  'Secretaries', 'HR staff', 'IT staff', 'Low-skill Laborers', 'Waiters/barmen staff'],\n",
    "#     'edu_type': ['Higher education', 'Secondary / secondary special', 'Incomplete higher',\n",
    "#                  'Lower secondary', 'Academic degree'],\n",
    "#     'marital_status': ['Married', 'Civil marriage', 'Separated', 'Single / not married', 'Widow'],\n",
    "#     'house_type': ['Municipal apartment', 'House / apartment', 'With parents',\n",
    "#                    'Co-op apartment', 'Rented apartment', 'Office apartment']\n",
    "# }\n",
    "\n",
    "# # 데이터프레임 생성\n",
    "# df = pd.DataFrame(data)\n",
    "\n",
    "# # get_dummies를 사용하여 원핫인코딩 적용\n",
    "# df_encoded = pd.get_dummies(df, columns=['income_type', 'job_type', 'edu_type', 'marital_status', 'house_type'])\n",
    "\n",
    "# # 결과 확인\n",
    "# print(df_encoded)\n"
   ]
  },
  {
   "cell_type": "code",
   "execution_count": 565,
   "metadata": {
    "id": "NdSPFrZmfjZt"
   },
   "outputs": [],
   "source": [
    "# from sklearn.preprocessing import LabelBinarizer\n",
    "# from sklearn.decomposition import PCA\n",
    "\n",
    "# # 원핫인코딩을 적용할 열 선택\n",
    "# columns_to_encode = ['income_type', 'job_type', 'edu_type', 'marital status', 'house_type']\n",
    "\n",
    "# for column in columns_to_encode:\n",
    "#     try:\n",
    "#         train[column] = pd.to_numeric(train[column])\n",
    "#     except ValueError:\n",
    "#         pass\n",
    "\n",
    "\n",
    "# # LabelBinarizer를 사용하여 원핫인코딩 적용\n",
    "# encoder = LabelBinarizer()\n",
    "# for column in columns_to_encode:\n",
    "#     train_encoded = encoder.fit_transform(train[column])\n",
    "#     test_encoded = encoder.transform(test[column])\n",
    "\n",
    "#     # 기존 열 제거\n",
    "#     train = train.drop(column, axis=1)\n",
    "#     test = test.drop(column, axis=1)\n",
    "\n",
    "#     # 원핫인코딩 결과를 DataFrame에 추가\n",
    "#     train = pd.concat([train, pd.DataFrame(train_encoded, columns=[f\"{column}_{i}\" for i in range(train_encoded.shape[1])])], axis=1)\n",
    "#     test = pd.concat([test, pd.DataFrame(test_encoded, columns=[f\"{column}_{i}\" for i in range(test_encoded.shape[1])])], axis=1)\n",
    "\n",
    "# # 차원 축소를 위해 PCA 사용\n",
    "# pca = PCA(n_components=10)  # 적절한 차원 수를 지정\n",
    "# train_pca = pca.fit_transform(train)\n",
    "# test_pca = pca.transform(test)\n",
    "\n",
    "# # 결과 확인\n",
    "# print(\"Shape before PCA:\", train.shape, test.shape)\n",
    "# print(\"Shape after PCA:\", train_pca.shape, test_pca.shape)\n"
   ]
  },
  {
   "cell_type": "code",
   "execution_count": 43,
   "metadata": {
    "colab": {
     "base_uri": "https://localhost:8080/",
     "height": 423
    },
    "id": "gbI9fTL6yWEf",
    "outputId": "12cd1927-12e8-44de-a64d-02892da0495a"
   },
   "outputs": [
    {
     "data": {
      "text/html": [
       "<div>\n",
       "<style scoped>\n",
       "    .dataframe tbody tr th:only-of-type {\n",
       "        vertical-align: middle;\n",
       "    }\n",
       "\n",
       "    .dataframe tbody tr th {\n",
       "        vertical-align: top;\n",
       "    }\n",
       "\n",
       "    .dataframe thead th {\n",
       "        text-align: right;\n",
       "    }\n",
       "</style>\n",
       "<table border=\"1\" class=\"dataframe\">\n",
       "  <thead>\n",
       "    <tr style=\"text-align: right;\">\n",
       "      <th></th>\n",
       "      <th>gender</th>\n",
       "      <th>is_car</th>\n",
       "      <th>is_reality</th>\n",
       "      <th>income_year</th>\n",
       "      <th>income_type</th>\n",
       "      <th>edu_type</th>\n",
       "      <th>marital status</th>\n",
       "      <th>house_type</th>\n",
       "      <th>is_email</th>\n",
       "      <th>job_type</th>\n",
       "      <th>family_size</th>\n",
       "      <th>credit</th>\n",
       "      <th>income_mean</th>\n",
       "      <th>c_h</th>\n",
       "      <th>ID</th>\n",
       "    </tr>\n",
       "  </thead>\n",
       "  <tbody>\n",
       "    <tr>\n",
       "      <th>0</th>\n",
       "      <td>1</td>\n",
       "      <td>0</td>\n",
       "      <td>0</td>\n",
       "      <td>0</td>\n",
       "      <td>0</td>\n",
       "      <td>1</td>\n",
       "      <td>1</td>\n",
       "      <td>2</td>\n",
       "      <td>0</td>\n",
       "      <td>12</td>\n",
       "      <td>2</td>\n",
       "      <td>1</td>\n",
       "      <td>0</td>\n",
       "      <td>0</td>\n",
       "      <td>0.514932</td>\n",
       "    </tr>\n",
       "    <tr>\n",
       "      <th>1</th>\n",
       "      <td>1</td>\n",
       "      <td>0</td>\n",
       "      <td>1</td>\n",
       "      <td>1</td>\n",
       "      <td>0</td>\n",
       "      <td>4</td>\n",
       "      <td>0</td>\n",
       "      <td>1</td>\n",
       "      <td>1</td>\n",
       "      <td>8</td>\n",
       "      <td>3</td>\n",
       "      <td>1</td>\n",
       "      <td>0</td>\n",
       "      <td>1</td>\n",
       "      <td>0.8722</td>\n",
       "    </tr>\n",
       "    <tr>\n",
       "      <th>2</th>\n",
       "      <td>0</td>\n",
       "      <td>1</td>\n",
       "      <td>1</td>\n",
       "      <td>2</td>\n",
       "      <td>4</td>\n",
       "      <td>1</td>\n",
       "      <td>1</td>\n",
       "      <td>1</td>\n",
       "      <td>0</td>\n",
       "      <td>10</td>\n",
       "      <td>2</td>\n",
       "      <td>2</td>\n",
       "      <td>1</td>\n",
       "      <td>3</td>\n",
       "      <td>0.453667</td>\n",
       "    </tr>\n",
       "    <tr>\n",
       "      <th>3</th>\n",
       "      <td>1</td>\n",
       "      <td>0</td>\n",
       "      <td>1</td>\n",
       "      <td>0</td>\n",
       "      <td>0</td>\n",
       "      <td>4</td>\n",
       "      <td>1</td>\n",
       "      <td>1</td>\n",
       "      <td>0</td>\n",
       "      <td>15</td>\n",
       "      <td>2</td>\n",
       "      <td>0</td>\n",
       "      <td>0</td>\n",
       "      <td>1</td>\n",
       "      <td>0.756039</td>\n",
       "    </tr>\n",
       "    <tr>\n",
       "      <th>4</th>\n",
       "      <td>1</td>\n",
       "      <td>1</td>\n",
       "      <td>1</td>\n",
       "      <td>0</td>\n",
       "      <td>2</td>\n",
       "      <td>1</td>\n",
       "      <td>1</td>\n",
       "      <td>1</td>\n",
       "      <td>0</td>\n",
       "      <td>10</td>\n",
       "      <td>2</td>\n",
       "      <td>2</td>\n",
       "      <td>0</td>\n",
       "      <td>3</td>\n",
       "      <td>1.201581</td>\n",
       "    </tr>\n",
       "    <tr>\n",
       "      <th>...</th>\n",
       "      <td>...</td>\n",
       "      <td>...</td>\n",
       "      <td>...</td>\n",
       "      <td>...</td>\n",
       "      <td>...</td>\n",
       "      <td>...</td>\n",
       "      <td>...</td>\n",
       "      <td>...</td>\n",
       "      <td>...</td>\n",
       "      <td>...</td>\n",
       "      <td>...</td>\n",
       "      <td>...</td>\n",
       "      <td>...</td>\n",
       "      <td>...</td>\n",
       "      <td>...</td>\n",
       "    </tr>\n",
       "    <tr>\n",
       "      <th>21975</th>\n",
       "      <td>1</td>\n",
       "      <td>1</td>\n",
       "      <td>1</td>\n",
       "      <td>4</td>\n",
       "      <td>4</td>\n",
       "      <td>4</td>\n",
       "      <td>4</td>\n",
       "      <td>1</td>\n",
       "      <td>0</td>\n",
       "      <td>0</td>\n",
       "      <td>1</td>\n",
       "      <td>1</td>\n",
       "      <td>2</td>\n",
       "      <td>3</td>\n",
       "      <td>1.347826</td>\n",
       "    </tr>\n",
       "    <tr>\n",
       "      <th>21979</th>\n",
       "      <td>0</td>\n",
       "      <td>1</td>\n",
       "      <td>1</td>\n",
       "      <td>1</td>\n",
       "      <td>4</td>\n",
       "      <td>1</td>\n",
       "      <td>1</td>\n",
       "      <td>1</td>\n",
       "      <td>0</td>\n",
       "      <td>17</td>\n",
       "      <td>2</td>\n",
       "      <td>2</td>\n",
       "      <td>0</td>\n",
       "      <td>3</td>\n",
       "      <td>0.412604</td>\n",
       "    </tr>\n",
       "    <tr>\n",
       "      <th>21986</th>\n",
       "      <td>1</td>\n",
       "      <td>0</td>\n",
       "      <td>0</td>\n",
       "      <td>3</td>\n",
       "      <td>4</td>\n",
       "      <td>4</td>\n",
       "      <td>4</td>\n",
       "      <td>1</td>\n",
       "      <td>1</td>\n",
       "      <td>15</td>\n",
       "      <td>2</td>\n",
       "      <td>1</td>\n",
       "      <td>0</td>\n",
       "      <td>0</td>\n",
       "      <td>0.723979</td>\n",
       "    </tr>\n",
       "    <tr>\n",
       "      <th>21988</th>\n",
       "      <td>1</td>\n",
       "      <td>0</td>\n",
       "      <td>0</td>\n",
       "      <td>3</td>\n",
       "      <td>4</td>\n",
       "      <td>4</td>\n",
       "      <td>1</td>\n",
       "      <td>1</td>\n",
       "      <td>0</td>\n",
       "      <td>6</td>\n",
       "      <td>3</td>\n",
       "      <td>0</td>\n",
       "      <td>0</td>\n",
       "      <td>0</td>\n",
       "      <td>0.708169</td>\n",
       "    </tr>\n",
       "    <tr>\n",
       "      <th>21995</th>\n",
       "      <td>1</td>\n",
       "      <td>0</td>\n",
       "      <td>1</td>\n",
       "      <td>3</td>\n",
       "      <td>4</td>\n",
       "      <td>3</td>\n",
       "      <td>1</td>\n",
       "      <td>1</td>\n",
       "      <td>0</td>\n",
       "      <td>11</td>\n",
       "      <td>2</td>\n",
       "      <td>1</td>\n",
       "      <td>0</td>\n",
       "      <td>1</td>\n",
       "      <td>1.031401</td>\n",
       "    </tr>\n",
       "  </tbody>\n",
       "</table>\n",
       "<p>7087 rows × 15 columns</p>\n",
       "</div>"
      ],
      "text/plain": [
       "       gender  is_car  is_reality  income_year  income_type  edu_type  \\\n",
       "0           1       0           0            0            0         1   \n",
       "1           1       0           1            1            0         4   \n",
       "2           0       1           1            2            4         1   \n",
       "3           1       0           1            0            0         4   \n",
       "4           1       1           1            0            2         1   \n",
       "...       ...     ...         ...          ...          ...       ...   \n",
       "21975       1       1           1            4            4         4   \n",
       "21979       0       1           1            1            4         1   \n",
       "21986       1       0           0            3            4         4   \n",
       "21988       1       0           0            3            4         4   \n",
       "21995       1       0           1            3            4         3   \n",
       "\n",
       "       marital status  house_type  is_email  job_type  family_size  credit  \\\n",
       "0                   1           2         0        12            2       1   \n",
       "1                   0           1         1         8            3       1   \n",
       "2                   1           1         0        10            2       2   \n",
       "3                   1           1         0        15            2       0   \n",
       "4                   1           1         0        10            2       2   \n",
       "...               ...         ...       ...       ...          ...     ...   \n",
       "21975               4           1         0         0            1       1   \n",
       "21979               1           1         0        17            2       2   \n",
       "21986               4           1         1        15            2       1   \n",
       "21988               1           1         0         6            3       0   \n",
       "21995               1           1         0        11            2       1   \n",
       "\n",
       "       income_mean  c_h        ID  \n",
       "0                0    0  0.514932  \n",
       "1                0    1    0.8722  \n",
       "2                1    3  0.453667  \n",
       "3                0    1  0.756039  \n",
       "4                0    3  1.201581  \n",
       "...            ...  ...       ...  \n",
       "21975            2    3  1.347826  \n",
       "21979            0    3  0.412604  \n",
       "21986            0    0  0.723979  \n",
       "21988            0    0  0.708169  \n",
       "21995            0    1  1.031401  \n",
       "\n",
       "[7087 rows x 15 columns]"
      ]
     },
     "execution_count": 43,
     "metadata": {},
     "output_type": "execute_result"
    }
   ],
   "source": [
    "train"
   ]
  },
  {
   "cell_type": "code",
   "execution_count": 44,
   "metadata": {
    "colab": {
     "base_uri": "https://localhost:8080/",
     "height": 423
    },
    "id": "yUkQZ5buyWEg",
    "outputId": "41bd05a0-c7cb-4931-c778-7e3cca86678d"
   },
   "outputs": [
    {
     "data": {
      "text/html": [
       "<div>\n",
       "<style scoped>\n",
       "    .dataframe tbody tr th:only-of-type {\n",
       "        vertical-align: middle;\n",
       "    }\n",
       "\n",
       "    .dataframe tbody tr th {\n",
       "        vertical-align: top;\n",
       "    }\n",
       "\n",
       "    .dataframe thead th {\n",
       "        text-align: right;\n",
       "    }\n",
       "</style>\n",
       "<table border=\"1\" class=\"dataframe\">\n",
       "  <thead>\n",
       "    <tr style=\"text-align: right;\">\n",
       "      <th></th>\n",
       "      <th>gender</th>\n",
       "      <th>is_car</th>\n",
       "      <th>is_reality</th>\n",
       "      <th>income_year</th>\n",
       "      <th>income_type</th>\n",
       "      <th>edu_type</th>\n",
       "      <th>marital status</th>\n",
       "      <th>house_type</th>\n",
       "      <th>is_email</th>\n",
       "      <th>job_type</th>\n",
       "      <th>family_size</th>\n",
       "      <th>income_mean</th>\n",
       "      <th>c_h</th>\n",
       "      <th>ID</th>\n",
       "    </tr>\n",
       "  </thead>\n",
       "  <tbody>\n",
       "    <tr>\n",
       "      <th>0</th>\n",
       "      <td>1</td>\n",
       "      <td>0</td>\n",
       "      <td>1</td>\n",
       "      <td>0</td>\n",
       "      <td>4</td>\n",
       "      <td>2</td>\n",
       "      <td>0</td>\n",
       "      <td>1</td>\n",
       "      <td>0</td>\n",
       "      <td>12</td>\n",
       "      <td>2</td>\n",
       "      <td>0</td>\n",
       "      <td>1</td>\n",
       "      <td>3690</td>\n",
       "    </tr>\n",
       "    <tr>\n",
       "      <th>1</th>\n",
       "      <td>1</td>\n",
       "      <td>0</td>\n",
       "      <td>0</td>\n",
       "      <td>1</td>\n",
       "      <td>4</td>\n",
       "      <td>4</td>\n",
       "      <td>1</td>\n",
       "      <td>1</td>\n",
       "      <td>0</td>\n",
       "      <td>12</td>\n",
       "      <td>2</td>\n",
       "      <td>0</td>\n",
       "      <td>0</td>\n",
       "      <td>2923</td>\n",
       "    </tr>\n",
       "    <tr>\n",
       "      <th>2</th>\n",
       "      <td>0</td>\n",
       "      <td>1</td>\n",
       "      <td>1</td>\n",
       "      <td>2</td>\n",
       "      <td>1</td>\n",
       "      <td>1</td>\n",
       "      <td>2</td>\n",
       "      <td>1</td>\n",
       "      <td>0</td>\n",
       "      <td>12</td>\n",
       "      <td>1</td>\n",
       "      <td>1</td>\n",
       "      <td>3</td>\n",
       "      <td>2040</td>\n",
       "    </tr>\n",
       "    <tr>\n",
       "      <th>3</th>\n",
       "      <td>0</td>\n",
       "      <td>1</td>\n",
       "      <td>1</td>\n",
       "      <td>1</td>\n",
       "      <td>0</td>\n",
       "      <td>4</td>\n",
       "      <td>0</td>\n",
       "      <td>4</td>\n",
       "      <td>1</td>\n",
       "      <td>4</td>\n",
       "      <td>2</td>\n",
       "      <td>0</td>\n",
       "      <td>3</td>\n",
       "      <td>1789</td>\n",
       "    </tr>\n",
       "    <tr>\n",
       "      <th>4</th>\n",
       "      <td>1</td>\n",
       "      <td>0</td>\n",
       "      <td>0</td>\n",
       "      <td>1</td>\n",
       "      <td>4</td>\n",
       "      <td>1</td>\n",
       "      <td>1</td>\n",
       "      <td>2</td>\n",
       "      <td>0</td>\n",
       "      <td>12</td>\n",
       "      <td>3</td>\n",
       "      <td>0</td>\n",
       "      <td>0</td>\n",
       "      <td>2862</td>\n",
       "    </tr>\n",
       "    <tr>\n",
       "      <th>...</th>\n",
       "      <td>...</td>\n",
       "      <td>...</td>\n",
       "      <td>...</td>\n",
       "      <td>...</td>\n",
       "      <td>...</td>\n",
       "      <td>...</td>\n",
       "      <td>...</td>\n",
       "      <td>...</td>\n",
       "      <td>...</td>\n",
       "      <td>...</td>\n",
       "      <td>...</td>\n",
       "      <td>...</td>\n",
       "      <td>...</td>\n",
       "      <td>...</td>\n",
       "    </tr>\n",
       "    <tr>\n",
       "      <th>4451</th>\n",
       "      <td>1</td>\n",
       "      <td>0</td>\n",
       "      <td>0</td>\n",
       "      <td>2</td>\n",
       "      <td>2</td>\n",
       "      <td>4</td>\n",
       "      <td>1</td>\n",
       "      <td>1</td>\n",
       "      <td>0</td>\n",
       "      <td>3</td>\n",
       "      <td>4</td>\n",
       "      <td>0</td>\n",
       "      <td>0</td>\n",
       "      <td>3014</td>\n",
       "    </tr>\n",
       "    <tr>\n",
       "      <th>4452</th>\n",
       "      <td>1</td>\n",
       "      <td>0</td>\n",
       "      <td>1</td>\n",
       "      <td>1</td>\n",
       "      <td>4</td>\n",
       "      <td>1</td>\n",
       "      <td>2</td>\n",
       "      <td>1</td>\n",
       "      <td>0</td>\n",
       "      <td>12</td>\n",
       "      <td>2</td>\n",
       "      <td>0</td>\n",
       "      <td>1</td>\n",
       "      <td>4166</td>\n",
       "    </tr>\n",
       "    <tr>\n",
       "      <th>4453</th>\n",
       "      <td>1</td>\n",
       "      <td>1</td>\n",
       "      <td>0</td>\n",
       "      <td>2</td>\n",
       "      <td>4</td>\n",
       "      <td>4</td>\n",
       "      <td>0</td>\n",
       "      <td>5</td>\n",
       "      <td>0</td>\n",
       "      <td>3</td>\n",
       "      <td>2</td>\n",
       "      <td>1</td>\n",
       "      <td>2</td>\n",
       "      <td>5246</td>\n",
       "    </tr>\n",
       "    <tr>\n",
       "      <th>4454</th>\n",
       "      <td>0</td>\n",
       "      <td>0</td>\n",
       "      <td>1</td>\n",
       "      <td>1</td>\n",
       "      <td>4</td>\n",
       "      <td>2</td>\n",
       "      <td>3</td>\n",
       "      <td>1</td>\n",
       "      <td>0</td>\n",
       "      <td>8</td>\n",
       "      <td>1</td>\n",
       "      <td>1</td>\n",
       "      <td>1</td>\n",
       "      <td>723</td>\n",
       "    </tr>\n",
       "    <tr>\n",
       "      <th>4455</th>\n",
       "      <td>1</td>\n",
       "      <td>0</td>\n",
       "      <td>0</td>\n",
       "      <td>0</td>\n",
       "      <td>4</td>\n",
       "      <td>4</td>\n",
       "      <td>0</td>\n",
       "      <td>1</td>\n",
       "      <td>0</td>\n",
       "      <td>17</td>\n",
       "      <td>2</td>\n",
       "      <td>0</td>\n",
       "      <td>0</td>\n",
       "      <td>2597</td>\n",
       "    </tr>\n",
       "  </tbody>\n",
       "</table>\n",
       "<p>4456 rows × 14 columns</p>\n",
       "</div>"
      ],
      "text/plain": [
       "      gender  is_car  is_reality  income_year  income_type  edu_type  \\\n",
       "0          1       0           1            0            4         2   \n",
       "1          1       0           0            1            4         4   \n",
       "2          0       1           1            2            1         1   \n",
       "3          0       1           1            1            0         4   \n",
       "4          1       0           0            1            4         1   \n",
       "...      ...     ...         ...          ...          ...       ...   \n",
       "4451       1       0           0            2            2         4   \n",
       "4452       1       0           1            1            4         1   \n",
       "4453       1       1           0            2            4         4   \n",
       "4454       0       0           1            1            4         2   \n",
       "4455       1       0           0            0            4         4   \n",
       "\n",
       "      marital status  house_type  is_email  job_type  family_size  \\\n",
       "0                  0           1         0        12            2   \n",
       "1                  1           1         0        12            2   \n",
       "2                  2           1         0        12            1   \n",
       "3                  0           4         1         4            2   \n",
       "4                  1           2         0        12            3   \n",
       "...              ...         ...       ...       ...          ...   \n",
       "4451               1           1         0         3            4   \n",
       "4452               2           1         0        12            2   \n",
       "4453               0           5         0         3            2   \n",
       "4454               3           1         0         8            1   \n",
       "4455               0           1         0        17            2   \n",
       "\n",
       "      income_mean  c_h    ID  \n",
       "0               0    1  3690  \n",
       "1               0    0  2923  \n",
       "2               1    3  2040  \n",
       "3               0    3  1789  \n",
       "4               0    0  2862  \n",
       "...           ...  ...   ...  \n",
       "4451            0    0  3014  \n",
       "4452            0    1  4166  \n",
       "4453            1    2  5246  \n",
       "4454            1    1   723  \n",
       "4455            0    0  2597  \n",
       "\n",
       "[4456 rows x 14 columns]"
      ]
     },
     "execution_count": 44,
     "metadata": {},
     "output_type": "execute_result"
    }
   ],
   "source": [
    "test"
   ]
  },
  {
   "cell_type": "code",
   "execution_count": 568,
   "metadata": {
    "colab": {
     "base_uri": "https://localhost:8080/"
    },
    "id": "jQRymOIWyWEg",
    "outputId": "e6687ff3-17aa-4238-a41f-4d138a3f4477"
   },
   "outputs": [
    {
     "data": {
      "text/plain": [
       "(21998, 14)"
      ]
     },
     "execution_count": 568,
     "metadata": {},
     "output_type": "execute_result"
    }
   ],
   "source": [
    "train.shape"
   ]
  },
  {
   "cell_type": "code",
   "execution_count": 569,
   "metadata": {
    "colab": {
     "base_uri": "https://localhost:8080/"
    },
    "id": "3JjPqZiZyWEg",
    "outputId": "c69f7c40-9995-40e8-e434-80d36b47d947"
   },
   "outputs": [
    {
     "data": {
      "text/plain": [
       "(4456, 13)"
      ]
     },
     "execution_count": 569,
     "metadata": {},
     "output_type": "execute_result"
    }
   ],
   "source": [
    "test.shape"
   ]
  },
  {
   "cell_type": "markdown",
   "metadata": {
    "id": "68f2p9JpyWEh"
   },
   "source": [
    "### 4) 특성 추가"
   ]
  },
  {
   "cell_type": "code",
   "execution_count": 570,
   "metadata": {
    "id": "IIBZJDMOGCN4"
   },
   "outputs": [],
   "source": [
    "\n",
    "# from sklearn.cluster import KMeans\n",
    "\n",
    "# kmeans_train = train.drop(['credit'], axis=1)\n",
    "# kmeans = KMeans(n_clusters=36, random_state=42).fit(kmeans_train)\n",
    "# train['cluster'] = kmeans.predict(kmeans_train)\n",
    "# test['cluster'] = kmeans.predict(test)"
   ]
  },
  {
   "cell_type": "code",
   "execution_count": 571,
   "metadata": {
    "id": "LsJwzCOJyWEh"
   },
   "outputs": [],
   "source": [
    "# 가족의존성"
   ]
  },
  {
   "cell_type": "markdown",
   "metadata": {
    "id": "HWOiAsktyWEi"
   },
   "source": [
    "# 3. 데이터 모델링"
   ]
  },
  {
   "cell_type": "code",
   "execution_count": 45,
   "metadata": {
    "id": "IAChMH5WA1Ec"
   },
   "outputs": [],
   "source": [
    "train_x=train.drop('credit', axis=1)\n",
    "train_y=train[['credit']]\n",
    "test_x=test"
   ]
  },
  {
   "cell_type": "code",
   "execution_count": 573,
   "metadata": {
    "id": "QujsdPQTYYMF"
   },
   "outputs": [],
   "source": [
    "# from imblearn.over_sampling import SMOTE\n",
    "# from collections import Counter\n",
    "\n",
    "# # SMOTE 객체 생성\n",
    "# smote = SMOTE(sampling_strategy='auto', random_state=42)\n",
    "\n",
    "# # 'credit' 열을 제외한 특성 데이터\n",
    "# train_xx = train.drop('credit',axis=1)\n",
    "\n",
    "# # 'credit' 열을 클래스 레이블로 설정\n",
    "# train_yy = train[['credit']]\n",
    "\n",
    "# # SMOTE를 사용하여 오버샘플링 수행\n",
    "# train_x, train_y = smote.fit_resample(train_xx, train_yy)\n",
    "\n",
    "# # 오버샘플링 후의 클래스 분포 확인\n",
    "# print(\"클래스 분포:\", Counter(train_y))\n",
    "\n",
    "\n",
    "# test_x=test"
   ]
  },
  {
   "cell_type": "code",
   "execution_count": 46,
   "metadata": {
    "colab": {
     "base_uri": "https://localhost:8080/"
    },
    "id": "nBVJ9N98yWEi",
    "outputId": "a8e6a182-39bb-4719-befe-e98d041214a9"
   },
   "outputs": [
    {
     "name": "stdout",
     "output_type": "stream",
     "text": [
      "Train set: \n",
      "(5315, 14)\n",
      "(5315, 1)\n",
      "===========\n",
      "Validation set: \n",
      "(1772, 14)\n",
      "(1772, 1)\n"
     ]
    }
   ],
   "source": [
    "from sklearn.ensemble import RandomForestClassifier\n",
    "from sklearn.metrics import accuracy_score\n",
    "from sklearn.metrics import f1_score\n",
    "\n",
    "X_train, X_val, y_train, y_val = train_test_split(train_x, train_y,\n",
    "                                                    stratify=train_y, test_size=0.25,\n",
    "                                                    random_state = 10086)\n",
    "\n",
    "print(\"Train set: \")\n",
    "print(X_train.shape)\n",
    "print(y_train.shape)\n",
    "print(\"===========\")\n",
    "print(\"Validation set: \")\n",
    "print(X_val.shape)\n",
    "print(y_val.shape)"
   ]
  },
  {
   "cell_type": "code",
   "execution_count": 49,
   "metadata": {},
   "outputs": [
    {
     "name": "stdout",
     "output_type": "stream",
     "text": [
      "Best parameters: {'max_depth': 10, 'min_samples_split': 10, 'n_estimators': 100}\n"
     ]
    }
   ],
   "source": [
    "from sklearn.ensemble import RandomForestClassifier\n",
    "from sklearn.model_selection import GridSearchCV\n",
    "\n",
    "# RandomForestClassifier 모델 생성\n",
    "clf = RandomForestClassifier()\n",
    "\n",
    "# 탐색할 하이퍼파라미터 그리드 설정\n",
    "param_grid = {\n",
    "    'n_estimators': [50, 100, 200],  # 결정 트리 개수\n",
    "    'max_depth': [None, 10, 20],     # 트리의 최대 깊이\n",
    "    'min_samples_split': [2, 5, 10]  # 내부 노드를 분할하기 위한 최소 샘플 수\n",
    "}\n",
    "\n",
    "# 그리드 서치 객체 생성\n",
    "grid_search = GridSearchCV(clf, param_grid, cv=3, scoring='accuracy')\n",
    "\n",
    "# 학습 데이터에 그리드 서치 적용\n",
    "grid_search.fit(X_train, y_train)\n",
    "\n",
    "# 최적의 하이퍼파라미터 출력\n",
    "print(\"Best parameters:\", grid_search.best_params_)\n",
    "\n",
    "# 최적의 모델\n",
    "best_model = grid_search.best_estimator_\n",
    "\n",
    "# 검증 데이터에 대한 예측\n",
    "y_pred = best_model.predict_proba(X_val)\n"
   ]
  },
  {
   "cell_type": "code",
   "execution_count": 50,
   "metadata": {},
   "outputs": [],
   "source": [
    "from sklearn.model_selection import KFold, StratifiedKFold\n",
    "\n",
    "def run_kfold(clf):\n",
    "    folds=StratifiedKFold(n_splits=5, shuffle=True, random_state=55)\n",
    "    outcomes=[]\n",
    "    sub=np.zeros((test_x.shape[0], 3))  \n",
    "    for n_fold, (train_index, val_index) in enumerate(folds.split(train_x, train_y)):\n",
    "        X_train, X_val = train_x.iloc[train_index], train_x.iloc[val_index]\n",
    "        y_train, y_val = train_y.iloc[train_index], train_y.iloc[val_index]\n",
    "        clf.fit(X_train, y_train)\n",
    "        \n",
    "        predictions=clf.predict_proba(X_val)\n",
    "\n",
    "        \n",
    "        sub+=clf.predict_proba(test_x)\n",
    "        \n",
    "        \n",
    "    mean_outcome=np.mean(outcomes)\n",
    "    \n",
    "    return sub/folds.n_splits\n",
    "\n",
    "my_submission = run_kfold(clf)"
   ]
  },
  {
   "cell_type": "code",
   "execution_count": 51,
   "metadata": {},
   "outputs": [
    {
     "data": {
      "text/plain": [
       "array([[0.19123333, 0.3233    , 0.48546667],\n",
       "       [0.23605   , 0.28729762, 0.47665238],\n",
       "       [0.21609524, 0.24115238, 0.54275238],\n",
       "       ...,\n",
       "       [0.20630476, 0.27942857, 0.51426667],\n",
       "       [0.20017143, 0.32871429, 0.47111429],\n",
       "       [0.17177619, 0.39273333, 0.43549048]])"
      ]
     },
     "execution_count": 51,
     "metadata": {},
     "output_type": "execute_result"
    }
   ],
   "source": [
    "my_submission"
   ]
  },
  {
   "cell_type": "code",
   "execution_count": 52,
   "metadata": {},
   "outputs": [
    {
     "data": {
      "text/plain": [
       "4456"
      ]
     },
     "execution_count": 52,
     "metadata": {},
     "output_type": "execute_result"
    }
   ],
   "source": [
    "len(my_submission)"
   ]
  },
  {
   "cell_type": "code",
   "execution_count": 53,
   "metadata": {},
   "outputs": [],
   "source": [
    "answer_list = []\n",
    "for i in my_submission:\n",
    "    answer = i.argmax()\n",
    "    answer_list.append(answer)"
   ]
  },
  {
   "cell_type": "code",
   "execution_count": 54,
   "metadata": {},
   "outputs": [
    {
     "name": "stdout",
     "output_type": "stream",
     "text": [
      "11\n",
      "78\n",
      "4367\n"
     ]
    }
   ],
   "source": [
    "print(answer_list.count(0))\n",
    "print(answer_list.count(1))\n",
    "print(answer_list.count(2))"
   ]
  },
  {
   "cell_type": "code",
   "execution_count": 55,
   "metadata": {},
   "outputs": [
    {
     "data": {
      "text/html": [
       "<div>\n",
       "<style scoped>\n",
       "    .dataframe tbody tr th:only-of-type {\n",
       "        vertical-align: middle;\n",
       "    }\n",
       "\n",
       "    .dataframe tbody tr th {\n",
       "        vertical-align: top;\n",
       "    }\n",
       "\n",
       "    .dataframe thead th {\n",
       "        text-align: right;\n",
       "    }\n",
       "</style>\n",
       "<table border=\"1\" class=\"dataframe\">\n",
       "  <thead>\n",
       "    <tr style=\"text-align: right;\">\n",
       "      <th></th>\n",
       "      <th>index</th>\n",
       "      <th>credit</th>\n",
       "    </tr>\n",
       "  </thead>\n",
       "  <tbody>\n",
       "    <tr>\n",
       "      <th>0</th>\n",
       "      <td>22001</td>\n",
       "      <td>0</td>\n",
       "    </tr>\n",
       "    <tr>\n",
       "      <th>1</th>\n",
       "      <td>22002</td>\n",
       "      <td>0</td>\n",
       "    </tr>\n",
       "    <tr>\n",
       "      <th>2</th>\n",
       "      <td>22003</td>\n",
       "      <td>0</td>\n",
       "    </tr>\n",
       "    <tr>\n",
       "      <th>3</th>\n",
       "      <td>22004</td>\n",
       "      <td>0</td>\n",
       "    </tr>\n",
       "    <tr>\n",
       "      <th>4</th>\n",
       "      <td>22005</td>\n",
       "      <td>0</td>\n",
       "    </tr>\n",
       "    <tr>\n",
       "      <th>...</th>\n",
       "      <td>...</td>\n",
       "      <td>...</td>\n",
       "    </tr>\n",
       "    <tr>\n",
       "      <th>4451</th>\n",
       "      <td>26452</td>\n",
       "      <td>0</td>\n",
       "    </tr>\n",
       "    <tr>\n",
       "      <th>4452</th>\n",
       "      <td>26453</td>\n",
       "      <td>0</td>\n",
       "    </tr>\n",
       "    <tr>\n",
       "      <th>4453</th>\n",
       "      <td>26454</td>\n",
       "      <td>0</td>\n",
       "    </tr>\n",
       "    <tr>\n",
       "      <th>4454</th>\n",
       "      <td>26455</td>\n",
       "      <td>0</td>\n",
       "    </tr>\n",
       "    <tr>\n",
       "      <th>4455</th>\n",
       "      <td>26456</td>\n",
       "      <td>0</td>\n",
       "    </tr>\n",
       "  </tbody>\n",
       "</table>\n",
       "<p>4456 rows × 2 columns</p>\n",
       "</div>"
      ],
      "text/plain": [
       "      index  credit\n",
       "0     22001       0\n",
       "1     22002       0\n",
       "2     22003       0\n",
       "3     22004       0\n",
       "4     22005       0\n",
       "...     ...     ...\n",
       "4451  26452       0\n",
       "4452  26453       0\n",
       "4453  26454       0\n",
       "4454  26455       0\n",
       "4455  26456       0\n",
       "\n",
       "[4456 rows x 2 columns]"
      ]
     },
     "execution_count": 55,
     "metadata": {},
     "output_type": "execute_result"
    }
   ],
   "source": [
    "submission"
   ]
  },
  {
   "cell_type": "code",
   "execution_count": 56,
   "metadata": {},
   "outputs": [],
   "source": [
    "submission['credit']=answer_list"
   ]
  },
  {
   "cell_type": "code",
   "execution_count": 57,
   "metadata": {},
   "outputs": [
    {
     "data": {
      "text/html": [
       "<div>\n",
       "<style scoped>\n",
       "    .dataframe tbody tr th:only-of-type {\n",
       "        vertical-align: middle;\n",
       "    }\n",
       "\n",
       "    .dataframe tbody tr th {\n",
       "        vertical-align: top;\n",
       "    }\n",
       "\n",
       "    .dataframe thead th {\n",
       "        text-align: right;\n",
       "    }\n",
       "</style>\n",
       "<table border=\"1\" class=\"dataframe\">\n",
       "  <thead>\n",
       "    <tr style=\"text-align: right;\">\n",
       "      <th></th>\n",
       "      <th>index</th>\n",
       "      <th>credit</th>\n",
       "    </tr>\n",
       "  </thead>\n",
       "  <tbody>\n",
       "    <tr>\n",
       "      <th>0</th>\n",
       "      <td>22001</td>\n",
       "      <td>2</td>\n",
       "    </tr>\n",
       "    <tr>\n",
       "      <th>1</th>\n",
       "      <td>22002</td>\n",
       "      <td>2</td>\n",
       "    </tr>\n",
       "    <tr>\n",
       "      <th>2</th>\n",
       "      <td>22003</td>\n",
       "      <td>2</td>\n",
       "    </tr>\n",
       "    <tr>\n",
       "      <th>3</th>\n",
       "      <td>22004</td>\n",
       "      <td>2</td>\n",
       "    </tr>\n",
       "    <tr>\n",
       "      <th>4</th>\n",
       "      <td>22005</td>\n",
       "      <td>2</td>\n",
       "    </tr>\n",
       "    <tr>\n",
       "      <th>...</th>\n",
       "      <td>...</td>\n",
       "      <td>...</td>\n",
       "    </tr>\n",
       "    <tr>\n",
       "      <th>4451</th>\n",
       "      <td>26452</td>\n",
       "      <td>2</td>\n",
       "    </tr>\n",
       "    <tr>\n",
       "      <th>4452</th>\n",
       "      <td>26453</td>\n",
       "      <td>2</td>\n",
       "    </tr>\n",
       "    <tr>\n",
       "      <th>4453</th>\n",
       "      <td>26454</td>\n",
       "      <td>2</td>\n",
       "    </tr>\n",
       "    <tr>\n",
       "      <th>4454</th>\n",
       "      <td>26455</td>\n",
       "      <td>2</td>\n",
       "    </tr>\n",
       "    <tr>\n",
       "      <th>4455</th>\n",
       "      <td>26456</td>\n",
       "      <td>2</td>\n",
       "    </tr>\n",
       "  </tbody>\n",
       "</table>\n",
       "<p>4456 rows × 2 columns</p>\n",
       "</div>"
      ],
      "text/plain": [
       "      index  credit\n",
       "0     22001       2\n",
       "1     22002       2\n",
       "2     22003       2\n",
       "3     22004       2\n",
       "4     22005       2\n",
       "...     ...     ...\n",
       "4451  26452       2\n",
       "4452  26453       2\n",
       "4453  26454       2\n",
       "4454  26455       2\n",
       "4455  26456       2\n",
       "\n",
       "[4456 rows x 2 columns]"
      ]
     },
     "execution_count": 57,
     "metadata": {},
     "output_type": "execute_result"
    }
   ],
   "source": [
    "submission"
   ]
  },
  {
   "cell_type": "code",
   "execution_count": 59,
   "metadata": {},
   "outputs": [],
   "source": [
    "submission.to_csv('./baseline_submission.csv', index=False)"
   ]
  },
  {
   "cell_type": "code",
   "execution_count": null,
   "metadata": {},
   "outputs": [],
   "source": []
  },
  {
   "cell_type": "code",
   "execution_count": null,
   "metadata": {},
   "outputs": [],
   "source": []
  },
  {
   "cell_type": "code",
   "execution_count": null,
   "metadata": {},
   "outputs": [],
   "source": []
  },
  {
   "cell_type": "code",
   "execution_count": null,
   "metadata": {},
   "outputs": [],
   "source": []
  },
  {
   "cell_type": "code",
   "execution_count": null,
   "metadata": {},
   "outputs": [],
   "source": []
  },
  {
   "cell_type": "code",
   "execution_count": null,
   "metadata": {},
   "outputs": [],
   "source": []
  },
  {
   "cell_type": "code",
   "execution_count": null,
   "metadata": {},
   "outputs": [],
   "source": []
  },
  {
   "cell_type": "code",
   "execution_count": null,
   "metadata": {},
   "outputs": [],
   "source": []
  },
  {
   "cell_type": "code",
   "execution_count": null,
   "metadata": {},
   "outputs": [],
   "source": []
  },
  {
   "cell_type": "code",
   "execution_count": null,
   "metadata": {},
   "outputs": [],
   "source": []
  },
  {
   "cell_type": "code",
   "execution_count": null,
   "metadata": {},
   "outputs": [],
   "source": []
  },
  {
   "cell_type": "code",
   "execution_count": null,
   "metadata": {},
   "outputs": [],
   "source": []
  },
  {
   "cell_type": "code",
   "execution_count": null,
   "metadata": {},
   "outputs": [],
   "source": []
  },
  {
   "cell_type": "code",
   "execution_count": 575,
   "metadata": {
    "id": "6ZpYVC7VyWEj"
   },
   "outputs": [],
   "source": [
    "# from sklearn.model_selection import GridSearchCV\n",
    "\n",
    "\n",
    "# # GridSearchCV를 사용하여 모델의 하이퍼파라미터 튜닝\n",
    "# param_grid = {\n",
    "#     'n_estimators': [100, 200, 300, 400, 500],\n",
    "#     'max_depth': [None, 10, 20, 30],\n",
    "# }\n",
    "\n",
    "# grid_search = GridSearchCV(estimator=RandomForestClassifier(), param_grid=param_grid, scoring='accuracy', cv=5)\n",
    "# grid_search.fit(train_x, train_y)\n",
    "\n",
    "# best_model = grid_search.best_estimator_\n",
    "# best_params = grid_search.best_params_\n",
    "\n",
    "# print(\"최적의 모델:\", best_model)\n",
    "# print(\"최적의 하이퍼파라미터:\", best_params)\n",
    "\n",
    "# # 최적의 모델을 사용하여 예측 및 성능 평가\n",
    "\n",
    "# clf = best_model\n",
    "# clf.fit(X_train, y_train)\n",
    "# y_pred = clf.predict_proba(X_val)\n",
    "\n",
    "# mean_accuracy = accuracy_score(y_val, y_pred.argmax(axis=1))\n",
    "\n",
    "# print(\"평균 정확도:\", mean_accuracy)"
   ]
  },
  {
   "cell_type": "code",
   "execution_count": 575,
   "metadata": {
    "id": "6pYfq3NoZgdD"
   },
   "outputs": [],
   "source": []
  },
  {
   "cell_type": "code",
   "execution_count": 576,
   "metadata": {
    "colab": {
     "base_uri": "https://localhost:8080/"
    },
    "id": "q-e_4mzsZgja",
    "outputId": "581a1317-1480-4510-aaba-3e1e401d55df"
   },
   "outputs": [
    {
     "name": "stdout",
     "output_type": "stream",
     "text": [
      "Requirement already satisfied: optuna in /usr/local/lib/python3.10/dist-packages (3.4.0)\n",
      "Requirement already satisfied: alembic>=1.5.0 in /usr/local/lib/python3.10/dist-packages (from optuna) (1.12.1)\n",
      "Requirement already satisfied: colorlog in /usr/local/lib/python3.10/dist-packages (from optuna) (6.7.0)\n",
      "Requirement already satisfied: numpy in /usr/local/lib/python3.10/dist-packages (from optuna) (1.23.5)\n",
      "Requirement already satisfied: packaging>=20.0 in /usr/local/lib/python3.10/dist-packages (from optuna) (23.2)\n",
      "Requirement already satisfied: sqlalchemy>=1.3.0 in /usr/local/lib/python3.10/dist-packages (from optuna) (2.0.23)\n",
      "Requirement already satisfied: tqdm in /usr/local/lib/python3.10/dist-packages (from optuna) (4.66.1)\n",
      "Requirement already satisfied: PyYAML in /usr/local/lib/python3.10/dist-packages (from optuna) (6.0.1)\n",
      "Requirement already satisfied: Mako in /usr/local/lib/python3.10/dist-packages (from alembic>=1.5.0->optuna) (1.3.0)\n",
      "Requirement already satisfied: typing-extensions>=4 in /usr/local/lib/python3.10/dist-packages (from alembic>=1.5.0->optuna) (4.5.0)\n",
      "Requirement already satisfied: greenlet!=0.4.17 in /usr/local/lib/python3.10/dist-packages (from sqlalchemy>=1.3.0->optuna) (3.0.1)\n",
      "Requirement already satisfied: MarkupSafe>=0.9.2 in /usr/local/lib/python3.10/dist-packages (from Mako->alembic>=1.5.0->optuna) (2.1.3)\n"
     ]
    }
   ],
   "source": [
    "# !pip install optuna\n"
   ]
  },
  {
   "cell_type": "code",
   "execution_count": 577,
   "metadata": {
    "id": "YXa5USEAZgja"
   },
   "outputs": [],
   "source": [
    "# import optuna\n",
    "# from optuna import Trial\n",
    "# from optuna.samplers import TPESampler\n",
    "# from sklearn.ensemble import RandomForestClassifier\n",
    "# from sklearn.model_selection import train_test_split\n",
    "# from sklearn.metrics import accuracy_score"
   ]
  },
  {
   "cell_type": "code",
   "execution_count": 578,
   "metadata": {
    "id": "gAlfRPmTZgja"
   },
   "outputs": [],
   "source": [
    "\n",
    "# def objective(trial):\n",
    "#     # Optuna가 최적화할 파라미터 범위 설정\n",
    "#     params = {\n",
    "#         'n_estimators': trial.suggest_int('n_estimators', 100, 500),\n",
    "#         'max_depth': trial.suggest_int('max_depth', 5, 30),\n",
    "#         'random_state': 42\n",
    "#     }\n",
    "\n",
    "#     # 랜덤 포레스트 모델 초기화\n",
    "#     model = RandomForestClassifier(**params)\n",
    "#     model.fit(X_train, y_train)\n",
    "\n",
    "#     # 검증 데이터에 대한 정확도 계산 (원하는 평가 지표로 변경 가능)\n",
    "#     predictions = model.predict(X_val)\n",
    "#     accuracy = accuracy_score(y_val, predictions)\n",
    "\n",
    "#     return accuracy\n",
    "\n",
    "\n",
    "# # Optuna를 사용하여 하이퍼파라미터 최적화 실행\n",
    "# sampler = TPESampler(seed=42)\n",
    "# study = optuna.create_study(direction='maximize', sampler=sampler, )\n",
    "# study.optimize(objective, n_trials=10)  # n_trials는 시도할 하이퍼파라미터 조합의 수입니다.\n",
    "\n",
    "# # 최적의 하이퍼파라미터 출력\n",
    "# print('Best trial:')\n",
    "# trial = study.best_trial\n",
    "\n",
    "# print('Accuracy: {}'.format(trial.value))\n",
    "# print(\"Best parameters:\")\n",
    "# for key, value in trial.params.items():\n",
    "#     print('{}: {}'.format(key, value))"
   ]
  },
  {
   "cell_type": "code",
   "execution_count": 579,
   "metadata": {
    "id": "eBuLHTnGZgjb"
   },
   "outputs": [],
   "source": [
    "# # 각 파라미터들의 상관관계\n",
    "# optuna.visualization.plot_contour(\n",
    "#     study,\n",
    "#     params=[\n",
    "#         \"iterations\",\n",
    "#         \"depth\",\n",
    "#         \"learning_rate\",\n",
    "#         \"random_state\",\n",
    "#     ],\n",
    "# )"
   ]
  },
  {
   "cell_type": "code",
   "execution_count": 580,
   "metadata": {
    "id": "oKF8xpOPZgjb"
   },
   "outputs": [],
   "source": [
    "# # 하이퍼파라미터 중요도\n",
    "# optuna.visualization.plot_param_importances(study)"
   ]
  },
  {
   "cell_type": "code",
   "execution_count": 581,
   "metadata": {
    "id": "JCYxj9rs1FWj"
   },
   "outputs": [],
   "source": [
    "# y_val\n"
   ]
  },
  {
   "cell_type": "code",
   "execution_count": 582,
   "metadata": {
    "colab": {
     "base_uri": "https://localhost:8080/"
    },
    "id": "qhOMlvGj1Crr",
    "outputId": "4cebfc44-4880-48aa-92cc-338658b921d8"
   },
   "outputs": [
    {
     "name": "stdout",
     "output_type": "stream",
     "text": [
      "평균 정확도: 0.6546953703006231\n",
      "평균 Precision: [0.66763976 0.65469537]\n",
      "평균 Recall: [0.66763976 0.65469537]\n",
      "평균 F1 Score: [0.66763976 0.65469537]\n"
     ]
    }
   ],
   "source": [
    "from sklearn.model_selection import StratifiedKFold\n",
    "from sklearn.ensemble import RandomForestClassifier\n",
    "from sklearn.metrics import accuracy_score, precision_recall_fscore_support\n",
    "import numpy as np\n",
    "import pandas as pd\n",
    "\n",
    "def run_kfold(clf, train_x, train_y, test_x):\n",
    "    folds = StratifiedKFold(n_splits=15, shuffle=True, random_state=55)\n",
    "    outcomes = []\n",
    "    sub = np.zeros((test_x.shape[0], 3))  # 수정된 부분\n",
    "    total_metrics = np.zeros((3, 2))  # 수정된 부분\n",
    "\n",
    "    for n_fold, (train_index, val_index) in enumerate(folds.split(train_x, train_y)):\n",
    "        X_train, X_val = train_x.iloc[train_index], train_x.iloc[val_index]\n",
    "        y_train, y_val = train_y.iloc[train_index], train_y.iloc[val_index]\n",
    "\n",
    "        clf.fit(X_train, y_train)\n",
    "        predictions = clf.predict(X_val)\n",
    "\n",
    "        # 정확도 계산\n",
    "        accuracy = accuracy_score(y_val, predictions)\n",
    "        outcomes.append(accuracy)\n",
    "\n",
    "        # Precision, Recall, F1 Score 계산\n",
    "        metrics = precision_recall_fscore_support(y_val, predictions, average='weighted', labels=np.unique(y_val))\n",
    "        metrics = np.array(metrics)[:2].astype(float)\n",
    "\n",
    "        total_metrics += metrics\n",
    "\n",
    "        sub += clf.predict_proba(test_x)\n",
    "\n",
    "    # Calculate average Precision, Recall, F1 Score\n",
    "    avg_precision = total_metrics[0] / folds.n_splits\n",
    "    avg_recall = total_metrics[1] / folds.n_splits\n",
    "    avg_f1_score = total_metrics[2] / folds.n_splits\n",
    "\n",
    "    mean_outcome = np.mean(outcomes)\n",
    "\n",
    "    return sub / folds.n_splits, mean_outcome, avg_precision, avg_recall, avg_f1_score\n",
    "\n",
    "# 예시에서 사용된 함수 호출\n",
    "my_submission, mean_accuracy, avg_precision, avg_recall, avg_f1_score = run_kfold(\n",
    "    RandomForestClassifier(max_depth=12, n_estimators=200),\n",
    "    train_x, train_y, test_x\n",
    ")\n",
    "\n",
    "print(\"평균 정확도:\", mean_accuracy)\n",
    "print(\"평균 Precision:\", avg_precision)\n",
    "print(\"평균 Recall:\", avg_recall)\n",
    "print(\"평균 F1 Score:\", avg_f1_score)\n"
   ]
  },
  {
   "cell_type": "code",
   "execution_count": 583,
   "metadata": {
    "id": "M3UoPqAyyWEj"
   },
   "outputs": [],
   "source": [
    "answer_list = []\n",
    "for i in my_submission:\n",
    "    answer = i.argmax()\n",
    "    answer_list.append(answer)"
   ]
  },
  {
   "cell_type": "code",
   "execution_count": 584,
   "metadata": {
    "colab": {
     "base_uri": "https://localhost:8080/"
    },
    "id": "nTs60J7lyWEk",
    "outputId": "eafcb475-6b6f-4343-9af6-6f46c275d8e9"
   },
   "outputs": [
    {
     "name": "stdout",
     "output_type": "stream",
     "text": [
      "6\n",
      "51\n",
      "4399\n"
     ]
    }
   ],
   "source": [
    "print(answer_list.count(0))\n",
    "print(answer_list.count(1))\n",
    "print(answer_list.count(2))"
   ]
  },
  {
   "cell_type": "code",
   "execution_count": 585,
   "metadata": {
    "id": "8BsORHcqyWFH"
   },
   "outputs": [],
   "source": [
    "submission['credit']=answer_list"
   ]
  },
  {
   "cell_type": "code",
   "execution_count": 592,
   "metadata": {
    "id": "oBoLq7inyWFI"
   },
   "outputs": [],
   "source": [
    "submission.to_csv('submission.csv', index=False)"
   ]
  },
  {
   "cell_type": "markdown",
   "metadata": {
    "id": "EE55DSG7aaal"
   },
   "source": [
    "++ optuna 코드\n"
   ]
  },
  {
   "cell_type": "code",
   "execution_count": 587,
   "metadata": {
    "id": "bS8edpEuVYdM"
   },
   "outputs": [],
   "source": [
    "# !pip install optuna\n"
   ]
  },
  {
   "cell_type": "code",
   "execution_count": 588,
   "metadata": {
    "id": "_Iz1qG_WU_v9"
   },
   "outputs": [],
   "source": [
    "# import optuna\n",
    "# from optuna import Trial\n",
    "# from optuna.samplers import TPESampler\n",
    "# from catboost import CatBoostClassifier\n",
    "# from sklearn.model_selection import train_test_split\n",
    "# from sklearn.metrics import accuracy_score"
   ]
  },
  {
   "cell_type": "code",
   "execution_count": 589,
   "metadata": {
    "id": "__V66kAGVOId"
   },
   "outputs": [],
   "source": [
    "\n",
    "# def objective(trial: Trial) -> float:\n",
    "#     # Optuna가 최적화할 파라미터 범위 설정\n",
    "#     params = {\n",
    "#         'iterations': trial.suggest_int('iterations', 50, 500),\n",
    "#         'depth': trial.suggest_int('depth', 1, 12),\n",
    "#         'learning_rate': trial.suggest_loguniform('learning_rate', 0.001, 0.1),\n",
    "#         'random_state': 42\n",
    "#     }\n",
    "\n",
    "#     # CatBoost 모델 초기화\n",
    "#     model = CatBoostClassifier(**params)\n",
    "#     model.fit(\n",
    "#         X_train,\n",
    "#         y_train,\n",
    "#         eval_set=[(X_train, y_train), (X_val, y_val)],\n",
    "#         early_stopping_rounds=100,\n",
    "#         verbose=False,\n",
    "#     )\n",
    "\n",
    "#     # 검증 데이터에 대한 정확도 계산 (원하는 평가 지표로 변경 가능)\n",
    "#     predictions = model.predict(X_val)\n",
    "#     accuracy = accuracy_score(y_val, predictions)\n",
    "\n",
    "#     return accuracy\n",
    "\n",
    "\n",
    "# # Optuna를 사용하여 하이퍼파라미터 최적화 실행\n",
    "# sampler = TPESampler(seed=42)\n",
    "# study = optuna.create_study(direction='maximize', sampler=sampler, )\n",
    "# study.optimize(objective, n_trials=10)  # n_trials는 시도할 하이퍼파라미터 조합의 수입니다.\n",
    "\n",
    "# # 최적의 하이퍼파라미터 출력\n",
    "# print('Best trial:')\n",
    "# trial = study.best_trial\n",
    "\n",
    "# print('Accuracy: {}'.format(trial.value))\n",
    "# print(\"Best parameters:\")\n",
    "# for key, value in trial.params.items():\n",
    "#     print('{}: {}'.format(key, value))"
   ]
  },
  {
   "cell_type": "code",
   "execution_count": 590,
   "metadata": {
    "id": "4Pr-B9k2V2Ym"
   },
   "outputs": [],
   "source": [
    "# # 각 파라미터들의 상관관계\n",
    "# optuna.visualization.plot_contour(\n",
    "#     study,\n",
    "#     params=[\n",
    "#         \"iterations\",\n",
    "#         \"depth\",\n",
    "#         \"learning_rate\",\n",
    "#         \"random_state\",\n",
    "#     ],\n",
    "# )"
   ]
  },
  {
   "cell_type": "code",
   "execution_count": 591,
   "metadata": {
    "id": "7rjOJC_VXGVk"
   },
   "outputs": [],
   "source": [
    "# # 하이퍼파라미터 중요도\n",
    "# optuna.visualization.plot_param_importances(study)"
   ]
  },
  {
   "cell_type": "code",
   "execution_count": 591,
   "metadata": {
    "id": "1Q3vJBsc8Ixb"
   },
   "outputs": [],
   "source": []
  },
  {
   "cell_type": "code",
   "execution_count": 591,
   "metadata": {
    "id": "aQjAK2U38Ixc"
   },
   "outputs": [],
   "source": []
  }
 ],
 "metadata": {
  "colab": {
   "provenance": []
  },
  "kernelspec": {
   "display_name": "Python 3 (ipykernel)",
   "language": "python",
   "name": "python3"
  },
  "language_info": {
   "codemirror_mode": {
    "name": "ipython",
    "version": 3
   },
   "file_extension": ".py",
   "mimetype": "text/x-python",
   "name": "python",
   "nbconvert_exporter": "python",
   "pygments_lexer": "ipython3",
   "version": "3.8.10"
  }
 },
 "nbformat": 4,
 "nbformat_minor": 1
}
